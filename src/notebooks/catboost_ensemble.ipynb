{
  "nbformat": 4,
  "nbformat_minor": 0,
  "metadata": {
    "colab": {
      "name": "catboost_ensemble.ipynb",
      "provenance": []
    },
    "kernelspec": {
      "display_name": "Python 3",
      "name": "python3"
    },
    "language_info": {
      "name": "python"
    },
    "accelerator": "GPU",
    "widgets": {
      "application/vnd.jupyter.widget-state+json": {
        "b7324a3b639a495aac2049e22d7b8547": {
          "model_module": "@jupyter-widgets/controls",
          "model_name": "HBoxModel",
          "state": {
            "_view_name": "HBoxView",
            "_dom_classes": [],
            "_model_name": "HBoxModel",
            "_view_module": "@jupyter-widgets/controls",
            "_model_module_version": "1.5.0",
            "_view_count": null,
            "_view_module_version": "1.5.0",
            "box_style": "",
            "layout": "IPY_MODEL_68265ebaeadc44d4906009d2524ceb3d",
            "_model_module": "@jupyter-widgets/controls",
            "children": [
              "IPY_MODEL_3206f5b79663468bb569e3c619aad2b1",
              "IPY_MODEL_589a7551d3ae4e0cb2736df293bbcb89"
            ]
          }
        },
        "68265ebaeadc44d4906009d2524ceb3d": {
          "model_module": "@jupyter-widgets/base",
          "model_name": "LayoutModel",
          "state": {
            "_view_name": "LayoutView",
            "grid_template_rows": null,
            "right": null,
            "justify_content": null,
            "_view_module": "@jupyter-widgets/base",
            "overflow": null,
            "_model_module_version": "1.2.0",
            "_view_count": null,
            "flex_flow": null,
            "width": null,
            "min_width": null,
            "border": null,
            "align_items": null,
            "bottom": null,
            "_model_module": "@jupyter-widgets/base",
            "top": null,
            "grid_column": null,
            "overflow_y": null,
            "overflow_x": null,
            "grid_auto_flow": null,
            "grid_area": null,
            "grid_template_columns": null,
            "flex": null,
            "_model_name": "LayoutModel",
            "justify_items": null,
            "grid_row": null,
            "max_height": null,
            "align_content": null,
            "visibility": null,
            "align_self": null,
            "height": null,
            "min_height": null,
            "padding": null,
            "grid_auto_rows": null,
            "grid_gap": null,
            "max_width": null,
            "order": null,
            "_view_module_version": "1.2.0",
            "grid_template_areas": null,
            "object_position": null,
            "object_fit": null,
            "grid_auto_columns": null,
            "margin": null,
            "display": null,
            "left": null
          }
        },
        "3206f5b79663468bb569e3c619aad2b1": {
          "model_module": "@jupyter-widgets/controls",
          "model_name": "FloatProgressModel",
          "state": {
            "_view_name": "ProgressView",
            "style": "IPY_MODEL_3019d71c90a747aba43d2919bf3e5c19",
            "_dom_classes": [],
            "description": "100%",
            "_model_name": "FloatProgressModel",
            "bar_style": "success",
            "max": 2,
            "_view_module": "@jupyter-widgets/controls",
            "_model_module_version": "1.5.0",
            "value": 2,
            "_view_count": null,
            "_view_module_version": "1.5.0",
            "orientation": "horizontal",
            "min": 0,
            "description_tooltip": null,
            "_model_module": "@jupyter-widgets/controls",
            "layout": "IPY_MODEL_d0dba23e5a894599ad57aa163ff8ef1f"
          }
        },
        "589a7551d3ae4e0cb2736df293bbcb89": {
          "model_module": "@jupyter-widgets/controls",
          "model_name": "HTMLModel",
          "state": {
            "_view_name": "HTMLView",
            "style": "IPY_MODEL_d532e37dab254bac8856a5b2f23bbee2",
            "_dom_classes": [],
            "description": "",
            "_model_name": "HTMLModel",
            "placeholder": "​",
            "_view_module": "@jupyter-widgets/controls",
            "_model_module_version": "1.5.0",
            "value": " 2/2 [44:21&lt;00:00, 1330.92s/it]",
            "_view_count": null,
            "_view_module_version": "1.5.0",
            "description_tooltip": null,
            "_model_module": "@jupyter-widgets/controls",
            "layout": "IPY_MODEL_d3944d9e7b25471fb62916b70c456632"
          }
        },
        "3019d71c90a747aba43d2919bf3e5c19": {
          "model_module": "@jupyter-widgets/controls",
          "model_name": "ProgressStyleModel",
          "state": {
            "_view_name": "StyleView",
            "_model_name": "ProgressStyleModel",
            "description_width": "initial",
            "_view_module": "@jupyter-widgets/base",
            "_model_module_version": "1.5.0",
            "_view_count": null,
            "_view_module_version": "1.2.0",
            "bar_color": null,
            "_model_module": "@jupyter-widgets/controls"
          }
        },
        "d0dba23e5a894599ad57aa163ff8ef1f": {
          "model_module": "@jupyter-widgets/base",
          "model_name": "LayoutModel",
          "state": {
            "_view_name": "LayoutView",
            "grid_template_rows": null,
            "right": null,
            "justify_content": null,
            "_view_module": "@jupyter-widgets/base",
            "overflow": null,
            "_model_module_version": "1.2.0",
            "_view_count": null,
            "flex_flow": null,
            "width": null,
            "min_width": null,
            "border": null,
            "align_items": null,
            "bottom": null,
            "_model_module": "@jupyter-widgets/base",
            "top": null,
            "grid_column": null,
            "overflow_y": null,
            "overflow_x": null,
            "grid_auto_flow": null,
            "grid_area": null,
            "grid_template_columns": null,
            "flex": null,
            "_model_name": "LayoutModel",
            "justify_items": null,
            "grid_row": null,
            "max_height": null,
            "align_content": null,
            "visibility": null,
            "align_self": null,
            "height": null,
            "min_height": null,
            "padding": null,
            "grid_auto_rows": null,
            "grid_gap": null,
            "max_width": null,
            "order": null,
            "_view_module_version": "1.2.0",
            "grid_template_areas": null,
            "object_position": null,
            "object_fit": null,
            "grid_auto_columns": null,
            "margin": null,
            "display": null,
            "left": null
          }
        },
        "d532e37dab254bac8856a5b2f23bbee2": {
          "model_module": "@jupyter-widgets/controls",
          "model_name": "DescriptionStyleModel",
          "state": {
            "_view_name": "StyleView",
            "_model_name": "DescriptionStyleModel",
            "description_width": "",
            "_view_module": "@jupyter-widgets/base",
            "_model_module_version": "1.5.0",
            "_view_count": null,
            "_view_module_version": "1.2.0",
            "_model_module": "@jupyter-widgets/controls"
          }
        },
        "d3944d9e7b25471fb62916b70c456632": {
          "model_module": "@jupyter-widgets/base",
          "model_name": "LayoutModel",
          "state": {
            "_view_name": "LayoutView",
            "grid_template_rows": null,
            "right": null,
            "justify_content": null,
            "_view_module": "@jupyter-widgets/base",
            "overflow": null,
            "_model_module_version": "1.2.0",
            "_view_count": null,
            "flex_flow": null,
            "width": null,
            "min_width": null,
            "border": null,
            "align_items": null,
            "bottom": null,
            "_model_module": "@jupyter-widgets/base",
            "top": null,
            "grid_column": null,
            "overflow_y": null,
            "overflow_x": null,
            "grid_auto_flow": null,
            "grid_area": null,
            "grid_template_columns": null,
            "flex": null,
            "_model_name": "LayoutModel",
            "justify_items": null,
            "grid_row": null,
            "max_height": null,
            "align_content": null,
            "visibility": null,
            "align_self": null,
            "height": null,
            "min_height": null,
            "padding": null,
            "grid_auto_rows": null,
            "grid_gap": null,
            "max_width": null,
            "order": null,
            "_view_module_version": "1.2.0",
            "grid_template_areas": null,
            "object_position": null,
            "object_fit": null,
            "grid_auto_columns": null,
            "margin": null,
            "display": null,
            "left": null
          }
        }
      }
    }
  },
  "cells": [
    {
      "cell_type": "code",
      "metadata": {
        "colab": {
          "base_uri": "https://localhost:8080/"
        },
        "id": "NwaX5-2KvhYT",
        "outputId": "23d856db-d5af-4048-dc1b-21e67e7f607a"
      },
      "source": [
        "!pip3 install catboost"
      ],
      "execution_count": null,
      "outputs": [
        {
          "output_type": "stream",
          "text": [
            "Collecting catboost\n",
            "\u001b[?25l  Downloading https://files.pythonhosted.org/packages/96/3b/bb419654adcf7efff42ed8a3f84e50c8f236424b7ed1cc8ccd290852e003/catboost-0.24.4-cp37-none-manylinux1_x86_64.whl (65.7MB)\n",
            "\u001b[K     |████████████████████████████████| 65.7MB 46kB/s \n",
            "\u001b[?25hRequirement already satisfied: graphviz in /usr/local/lib/python3.7/dist-packages (from catboost) (0.10.1)\n",
            "Requirement already satisfied: six in /usr/local/lib/python3.7/dist-packages (from catboost) (1.15.0)\n",
            "Requirement already satisfied: plotly in /usr/local/lib/python3.7/dist-packages (from catboost) (4.4.1)\n",
            "Requirement already satisfied: matplotlib in /usr/local/lib/python3.7/dist-packages (from catboost) (3.2.2)\n",
            "Requirement already satisfied: pandas>=0.24.0 in /usr/local/lib/python3.7/dist-packages (from catboost) (1.1.5)\n",
            "Requirement already satisfied: scipy in /usr/local/lib/python3.7/dist-packages (from catboost) (1.4.1)\n",
            "Requirement already satisfied: numpy>=1.16.0 in /usr/local/lib/python3.7/dist-packages (from catboost) (1.19.5)\n",
            "Requirement already satisfied: retrying>=1.3.3 in /usr/local/lib/python3.7/dist-packages (from plotly->catboost) (1.3.3)\n",
            "Requirement already satisfied: python-dateutil>=2.1 in /usr/local/lib/python3.7/dist-packages (from matplotlib->catboost) (2.8.1)\n",
            "Requirement already satisfied: cycler>=0.10 in /usr/local/lib/python3.7/dist-packages (from matplotlib->catboost) (0.10.0)\n",
            "Requirement already satisfied: kiwisolver>=1.0.1 in /usr/local/lib/python3.7/dist-packages (from matplotlib->catboost) (1.3.1)\n",
            "Requirement already satisfied: pyparsing!=2.0.4,!=2.1.2,!=2.1.6,>=2.0.1 in /usr/local/lib/python3.7/dist-packages (from matplotlib->catboost) (2.4.7)\n",
            "Requirement already satisfied: pytz>=2017.2 in /usr/local/lib/python3.7/dist-packages (from pandas>=0.24.0->catboost) (2018.9)\n",
            "Installing collected packages: catboost\n",
            "Successfully installed catboost-0.24.4\n"
          ],
          "name": "stdout"
        }
      ]
    },
    {
      "cell_type": "code",
      "metadata": {
        "id": "JdzIHztcMwWQ"
      },
      "source": [
        "import pandas as pd\n",
        "import numpy as np\n",
        "from sklearn.model_selection import train_test_split\n",
        "import re\n",
        "import seaborn as sns\n",
        "import matplotlib.pyplot as plt\n",
        "import time\n",
        "import gc\n",
        "from sklearn import model_selection\n",
        "from sklearn.model_selection import cross_val_score\n",
        "from sklearn.feature_extraction.text import TfidfVectorizer, CountVectorizer\n",
        "from tqdm.notebook import tqdm\n",
        "from catboost import Pool, CatBoostClassifier\n",
        "from sklearn.metrics import f1_score\n",
        "from sklearn import model_selection\n",
        "import lightgbm as lgbm\n",
        "import warnings\n",
        "\n",
        "warnings.filterwarnings('ignore')\n",
        "\n",
        "np.random.seed(42)"
      ],
      "execution_count": null,
      "outputs": []
    },
    {
      "cell_type": "code",
      "metadata": {
        "id": "-VPjQmNIvnKZ",
        "colab": {
          "base_uri": "https://localhost:8080/"
        },
        "outputId": "59be6553-dd9b-4b31-f688-8b11da5392e3"
      },
      "source": [
        "from google.colab import drive\n",
        "drive.mount('/content/gdrive')"
      ],
      "execution_count": null,
      "outputs": [
        {
          "output_type": "stream",
          "text": [
            "Mounted at /content/gdrive\n"
          ],
          "name": "stdout"
        }
      ]
    },
    {
      "cell_type": "code",
      "metadata": {
        "id": "Rk4JJV5dwmm0"
      },
      "source": [
        "WORK_DIR = '/content/gdrive/MyDrive/Colab_Notebooks/DFC'\n",
        "DATA_PATH = WORK_DIR + '/Data/'"
      ],
      "execution_count": null,
      "outputs": []
    },
    {
      "cell_type": "code",
      "metadata": {
        "id": "p60r7lH7wymA",
        "colab": {
          "base_uri": "https://localhost:8080/"
        },
        "outputId": "c161c4cc-f70d-4c89-b06a-11972b6b625e"
      },
      "source": [
        "%%time\n",
        "use_threads=False\n",
        "df = pd.read_parquet(DATA_PATH + 'data_fusion_train.parquet')"
      ],
      "execution_count": null,
      "outputs": [
        {
          "output_type": "stream",
          "text": [
            "CPU times: user 19.1 s, sys: 3.97 s, total: 23 s\n",
            "Wall time: 32.1 s\n"
          ],
          "name": "stdout"
        }
      ]
    },
    {
      "cell_type": "markdown",
      "metadata": {
        "id": "q2KF7UDlTzOc"
      },
      "source": [
        "One catboost"
      ]
    },
    {
      "cell_type": "code",
      "metadata": {
        "id": "AV4WtSY2T0Xs"
      },
      "source": [
        "def optimize_df(df):\n",
        "  map_cols_to_type = {\n",
        "    'category_id': np.int16,\n",
        "    'item_nds_rate' : np.int16,\n",
        "    'item_price' : np.int16,\n",
        "    'item_quantity' : np.float32,\n",
        "    'receipt_dayofweek' : np.int16,\n",
        "    'receipt_id' : np.int32\n",
        "  }\n",
        "  for key in map_cols_to_type:\n",
        "    df[key] = df[key].astype(map_cols_to_type[key])\n",
        "\n",
        "  return df"
      ],
      "execution_count": null,
      "outputs": []
    },
    {
      "cell_type": "code",
      "metadata": {
        "id": "j0nahFsIT059"
      },
      "source": [
        "def create_features_about_mean_entity(df):\n",
        "  gr_item_name = df.groupby('item_name')\n",
        "  df['mean_item_quantity'] = gr_item_name['item_quantity'].transform(\"mean\")\n",
        "  df['sum_item_quantity'] = gr_item_name['item_quantity'].transform(\"sum\")\n",
        "  df['std_item_quantity'] = gr_item_name['item_quantity'].transform(\"std\")\n",
        "  df['min_item_quantity'] = gr_item_name['item_quantity'].transform(\"min\")\n",
        "  df['max_item_quantity'] = gr_item_name['item_quantity'].transform(\"max\")\n",
        "\n",
        "  df['mean_item_price'] = gr_item_name['item_price'].transform(\"mean\")\n",
        "  df['sum_item_price'] = gr_item_name['item_price'].transform(\"sum\")\n",
        "  df['std_item_price'] = gr_item_name['item_price'].transform(\"std\")\n",
        "  df['min_item_price'] = gr_item_name['item_price'].transform(\"min\")\n",
        "  df['max_item_price'] = gr_item_name['item_price'].transform(\"max\")\n",
        "\n",
        "  df['mean_item_nds_rate'] = gr_item_name['item_nds_rate'].transform(\"mean\")\n",
        "  df['sum_item_nds_rate'] = gr_item_name['item_nds_rate'].transform(\"sum\")\n",
        "  df['std_item_nds_rate'] = gr_item_name['item_nds_rate'].transform(\"std\")\n",
        "  df['min_item_nds_rate'] = gr_item_name['item_nds_rate'].transform(\"min\")\n",
        "  df['max_item_nds_rate'] = gr_item_name['item_nds_rate'].transform(\"max\")\n",
        "\n",
        "\n",
        "  df['hours'] = df['receipt_time'].apply(lambda x: int(x.split(\":\")[0]))\n",
        "\n",
        "  df['mean_hours'] = gr_item_name['hours'].transform(\"mean\")\n",
        "  df['sum_hours'] = gr_item_name['hours'].transform(\"sum\")\n",
        "  df['std_hours'] = gr_item_name['hours'].transform(\"std\")\n",
        "  df['min_hours'] = gr_item_name['hours'].transform(\"min\")\n",
        "  df['max_hours'] = gr_item_name['hours'].transform(\"max\")\n",
        "\n",
        "\n",
        "  df['median_dayofweek'] = gr_item_name['receipt_dayofweek'].transform('median')\n",
        "  df['median_dayofweek'] = df['median_dayofweek'].astype(np.int8)\n",
        "\n",
        "\n",
        "  return df"
      ],
      "execution_count": null,
      "outputs": []
    },
    {
      "cell_type": "code",
      "metadata": {
        "id": "V8mTJqKmUEX7"
      },
      "source": [
        "feature_names = ['receipt_id', 'receipt_dayofweek', 'receipt_time', \n",
        "                 'item_name', 'item_quantity', 'item_price', 'item_nds_rate', \n",
        "                 'mean_item_quantity', 'sum_item_quantity', 'std_item_quantity', \n",
        "                 'min_item_quantity', 'max_item_quantity', 'mean_item_price',\n",
        "                 'sum_item_price', 'std_item_price', 'min_item_price',\n",
        "                 'max_item_price', 'mean_item_nds_rate', 'sum_item_nds_rate', \n",
        "                 'std_item_nds_rate', 'min_item_nds_rate', 'max_item_nds_rate', \n",
        "                 'hours', 'mean_hours', 'sum_hours', \n",
        "                 'std_hours', 'min_hours', 'max_hours', 'median_dayofweek',\n",
        "                 \n",
        "                 'first',\n",
        "                 'last', 'is_preservativ', 'is_paper', 'is_otkritka', 'is_born', 'is_a4', 'is_ubiley',                                         \n",
        "                 'is_auto', 'is_list', 'is_kanc', 'is_dnevnik',\n",
        "                \n",
        "                'first_word_len', 'last_word_len',\n",
        "                 'second_last_word', 'second_first_word',\n",
        "                 \n",
        "                 'last_first_word',\n",
        "                ] \n",
        "\n",
        "cat_features = ['receipt_time', 'receipt_id', 'hours', 'min_hours', 'max_hours', \n",
        "                'median_dayofweek', 'first', 'last', 'second_last_word', 'second_first_word',\n",
        "                 'last_first_word']\n",
        "text_features = ['item_name']\n",
        "\n",
        "target = 'category_id'\n",
        "\n",
        "\n",
        "def create_features(data):\n",
        "    data['first'] = data['item_name'].apply(lambda x: x.split()[0] if len(x.split()) > 0 else 'none')\n",
        "    data['last'] = data['item_name'].apply(lambda x: x.split()[-1] if len(x.split()) > 0 else 'none')\n",
        "    data['is_preservativ'] = data.item_name.apply(lambda x: int('презерватив' in x.lower()))\n",
        "    data['is_auto'] = data.item_name.apply(lambda x: int('авто' in x.lower() or \\\n",
        "                                                            'щетк' in x.lower() or \\\n",
        "                                                             'сантиметр' in x.lower()))\n",
        "\n",
        "    data['is_paper'] = data.item_name.apply(lambda x: int('бумага' in x.lower()))\n",
        "    data['is_otkritka'] = data.item_name.apply(lambda x: int('открытка' in x.lower()))\n",
        "    data['is_born'] = data.item_name.apply(lambda x: int('рождения' in x.lower()))\n",
        "    data['is_a4'] = data.item_name.apply(lambda x: int('а4' in x.lower()))\n",
        "    data['is_ubiley'] = data.item_name.apply(lambda x: int('юбиле' in x.lower()))\n",
        "\n",
        "    #24\n",
        "    data['is_list'] = data.item_name.apply(lambda x: int('лист' in x.lower()))\n",
        "    data['is_kanc'] = data.item_name.apply(lambda x: int('канцелярский' in x.lower()))\n",
        "    data['is_dnevnik'] = data.item_name.apply(lambda x: int('дневник' in x.lower()))\n",
        "    \n",
        "    data['second_last_word'] = data.item_name.apply(lambda x: x.split()[-2] if len(x.split()) > 1 else 'none')\n",
        "    data['second_first_word'] = data.item_name.apply(lambda x: x.split()[1] if len(x.split()) > 1 else 'none')\n",
        "\n",
        "    data['first_word_len'] = data['first'].apply(len)\n",
        "    data['last_word_len'] = data['last'].apply(len)\n",
        "\n",
        "    data['item_name_len'] = data.item_name.apply(lambda x: len(x.split()))\n",
        "\n",
        "    data['last_first_word'] = data['last'] + data['first']\n",
        "    return data\n",
        "\n",
        "\n",
        "def fill_median(df):\n",
        "    df['std_item_quantity'] = df['std_item_quantity'].fillna(np.nanmedian(df['std_item_quantity']))\n",
        "    df['std_item_price'] = df['std_item_price'].fillna(np.nanmedian(df['std_item_price']))\n",
        "    df['std_item_nds_rate'] = df['std_item_nds_rate'].fillna(np.nanmedian(df['std_item_nds_rate']))\n",
        "    df['std_hours'] = df['std_hours'].fillna(np.nanmedian(df['std_hours']))\n",
        "    return df\n",
        "\n",
        "    "
      ],
      "execution_count": null,
      "outputs": []
    },
    {
      "cell_type": "code",
      "metadata": {
        "id": "1EK7Psg4T6gq"
      },
      "source": [
        "# def string_transform(string):\n",
        "#   mix_cat_words = []#['шт', 'ккал', 'л', 'кг', 'г']\n",
        "#   string = string.split()\n",
        "#   string = [word.lower() for word in string  if word not in mix_cat_words]\n",
        "#   return ' '.join(string)\n",
        "\n",
        "# def clear_text(text_series):\n",
        "  \n",
        "#   \"\"\"Удаление всех символов, кроме букв в Series\"\"\"\n",
        "#   text_series = text_series.fillna('')\n",
        "#   text_series = text_series.str.replace(r'[\\s]', ' ')\n",
        "#   text_series = text_series.str.replace(r'[\\W0-9]', ' ')\n",
        "#   text_series = text_series.str.replace(r\" {2,}\", \" \")\n",
        "\n",
        "#   return text_series.apply(string_transform)\n",
        "\n",
        "\n",
        "df = optimize_df(df)\n",
        "df = create_features_about_mean_entity(df)\n",
        "\n",
        "df = df[df['category_id'] != -1]\n",
        "df_uni = df.drop_duplicates('item_name')\n",
        "#df_uni['item_name'] = clear_text(df_uni['item_name'])"
      ],
      "execution_count": null,
      "outputs": []
    },
    {
      "cell_type": "code",
      "metadata": {
        "colab": {
          "base_uri": "https://localhost:8080/"
        },
        "id": "exLolpReVGit",
        "outputId": "8c999336-1d1e-45f1-b7b7-72e28c8191ba"
      },
      "source": [
        "df_uni['item_name']"
      ],
      "execution_count": null,
      "outputs": [
        {
          "output_type": "execute_result",
          "data": {
            "text/plain": [
              "1                                              Молоко 3,2%,шт\n",
              "3                                   Компот из изюма, 114 ккал\n",
              "4           Макаронные изделия отварные (масло сливочное),...\n",
              "17                              Кофе Капучино Большой Эден 18\n",
              "40                                     Хлеб на СЫВОРОТКЕ 350г\n",
              "                                  ...                        \n",
              "45669181                       Напиток Энерг. Ред Булл 0,355л\n",
              "45681543                                    Хеменгуэй Дайкири\n",
              "45690702      Пиво светлое \"Халзан\" 4,5 % об, пл/б. 1,5 л(шт)\n",
              "45692298                                     Экспресс педикюр\n",
              "45700308                 Конфеты Харитоша 1кг мол. ваф Яшкино\n",
              "Name: item_name, Length: 48225, dtype: object"
            ]
          },
          "metadata": {
            "tags": []
          },
          "execution_count": 10
        }
      ]
    },
    {
      "cell_type": "code",
      "metadata": {
        "colab": {
          "base_uri": "https://localhost:8080/"
        },
        "id": "tOVlLmmKVWtZ",
        "outputId": "66650ed8-f0dc-446d-f9a4-d3017d370916"
      },
      "source": [
        "!pip3 install razdel"
      ],
      "execution_count": null,
      "outputs": [
        {
          "output_type": "stream",
          "text": [
            "Collecting razdel\n",
            "  Downloading https://files.pythonhosted.org/packages/15/2c/664223a3924aa6e70479f7d37220b3a658765b9cfe760b4af7ffdc50d38f/razdel-0.5.0-py3-none-any.whl\n",
            "Installing collected packages: razdel\n",
            "Successfully installed razdel-0.5.0\n"
          ],
          "name": "stdout"
        }
      ]
    },
    {
      "cell_type": "code",
      "metadata": {
        "colab": {
          "base_uri": "https://localhost:8080/"
        },
        "id": "da38IWQ4UPNp",
        "outputId": "d3c5c52d-9364-4b18-de09-40061e842341"
      },
      "source": [
        "import pickle\n",
        "from sklearn.metrics import classification_report\n",
        "import nltk\n",
        "import string\n",
        "from nltk.tokenize import WordPunctTokenizer \n",
        "from razdel import tokenize\n",
        "from nltk.corpus import stopwords\n",
        "\n",
        "nltk.download('punkt', download_dir='nltk_models')\n",
        "nltk.download('stopwords', download_dir='nltk_models')\n",
        "\n",
        "!mkdir nltk_models\n",
        "!pip3 install razdel\n",
        "!git clone https://github.com/natasha/razdel.git\n",
        "\n",
        "nltk.download('stopwords')\n",
        "RU_STOP_WORDS = set(stopwords.words('russian'))\n",
        "    \n",
        "def pre_process(text):\n",
        "    return \" \".join([token.lower() for token in [_.text for _ in tokenize(text)]\n",
        "                     if (token not in RU_STOP_WORDS) or (token not in string.punctuation)])"
      ],
      "execution_count": null,
      "outputs": [
        {
          "output_type": "stream",
          "text": [
            "[nltk_data] Downloading package punkt to nltk_models...\n",
            "[nltk_data]   Unzipping tokenizers/punkt.zip.\n",
            "[nltk_data] Downloading package stopwords to nltk_models...\n",
            "[nltk_data]   Unzipping corpora/stopwords.zip.\n",
            "mkdir: cannot create directory ‘nltk_models’: File exists\n",
            "Requirement already satisfied: razdel in /usr/local/lib/python3.7/dist-packages (0.5.0)\n",
            "Cloning into 'razdel'...\n",
            "remote: Enumerating objects: 162, done.\u001b[K\n",
            "remote: Counting objects: 100% (162/162), done.\u001b[K\n",
            "remote: Compressing objects: 100% (107/107), done.\u001b[K\n",
            "remote: Total 505 (delta 88), reused 101 (delta 51), pack-reused 343\u001b[K\n",
            "Receiving objects: 100% (505/505), 42.67 MiB | 16.76 MiB/s, done.\n",
            "Resolving deltas: 100% (297/297), done.\n",
            "[nltk_data] Downloading package stopwords to /root/nltk_data...\n",
            "[nltk_data]   Unzipping corpora/stopwords.zip.\n"
          ],
          "name": "stdout"
        }
      ]
    },
    {
      "cell_type": "code",
      "metadata": {
        "id": "gR6F8eRy0ELE"
      },
      "source": [
        "df_uni['item_name'] = df_uni['item_name'].apply(pre_process)\n",
        "df = create_features(df)\n",
        "df = fill_median(df)"
      ],
      "execution_count": null,
      "outputs": []
    },
    {
      "cell_type": "code",
      "metadata": {
        "colab": {
          "base_uri": "https://localhost:8080/"
        },
        "id": "e5z4-_s60ilg",
        "outputId": "ce707f33-541d-4d1f-9561-f74f90cffac4"
      },
      "source": [
        "df.info()"
      ],
      "execution_count": null,
      "outputs": [
        {
          "output_type": "stream",
          "text": [
            "<class 'pandas.core.frame.DataFrame'>\n",
            "Int64Index: 6483226 entries, 1 to 45729281\n",
            "Data columns (total 49 columns):\n",
            " #   Column              Dtype  \n",
            "---  ------              -----  \n",
            " 0   receipt_id          int32  \n",
            " 1   receipt_dayofweek   int16  \n",
            " 2   receipt_time        object \n",
            " 3   item_name           object \n",
            " 4   item_quantity       float32\n",
            " 5   item_price          int16  \n",
            " 6   item_nds_rate       int16  \n",
            " 7   category_id         int16  \n",
            " 8   brands              object \n",
            " 9   mean_item_quantity  float32\n",
            " 10  sum_item_quantity   float32\n",
            " 11  std_item_quantity   float64\n",
            " 12  min_item_quantity   float32\n",
            " 13  max_item_quantity   float32\n",
            " 14  mean_item_price     float64\n",
            " 15  sum_item_price      float64\n",
            " 16  std_item_price      float64\n",
            " 17  min_item_price      int16  \n",
            " 18  max_item_price      int16  \n",
            " 19  mean_item_nds_rate  float64\n",
            " 20  sum_item_nds_rate   float64\n",
            " 21  std_item_nds_rate   float64\n",
            " 22  min_item_nds_rate   int16  \n",
            " 23  max_item_nds_rate   int16  \n",
            " 24  hours               int64  \n",
            " 25  mean_hours          float64\n",
            " 26  sum_hours           int64  \n",
            " 27  std_hours           float64\n",
            " 28  min_hours           int64  \n",
            " 29  max_hours           int64  \n",
            " 30  median_dayofweek    int8   \n",
            " 31  first               object \n",
            " 32  last                object \n",
            " 33  is_preservativ      int64  \n",
            " 34  is_auto             int64  \n",
            " 35  is_paper            int64  \n",
            " 36  is_otkritka         int64  \n",
            " 37  is_born             int64  \n",
            " 38  is_a4               int64  \n",
            " 39  is_ubiley           int64  \n",
            " 40  is_list             int64  \n",
            " 41  is_kanc             int64  \n",
            " 42  is_dnevnik          int64  \n",
            " 43  second_last_word    object \n",
            " 44  second_first_word   object \n",
            " 45  first_word_len      int64  \n",
            " 46  last_word_len       int64  \n",
            " 47  item_name_len       int64  \n",
            " 48  last_first_word     object \n",
            "dtypes: float32(5), float64(9), int16(8), int32(1), int64(17), int8(1), object(8)\n",
            "memory usage: 1.9+ GB\n"
          ],
          "name": "stdout"
        }
      ]
    },
    {
      "cell_type": "code",
      "metadata": {
        "id": "ajdNWzA-08hx"
      },
      "source": [
        ""
      ],
      "execution_count": null,
      "outputs": []
    },
    {
      "cell_type": "code",
      "metadata": {
        "id": "MOTyG3790jaK"
      },
      "source": [
        ""
      ],
      "execution_count": null,
      "outputs": []
    },
    {
      "cell_type": "markdown",
      "metadata": {
        "id": "9qtjY1dK09qm"
      },
      "source": [
        "# Usual train test split"
      ]
    },
    {
      "cell_type": "code",
      "metadata": {
        "id": "-gRQqD2iUSua"
      },
      "source": [
        "from sklearn.model_selection  import train_test_split\n",
        "\n",
        "train, valid = model_selection.train_test_split(df_uni,\n",
        "                                                test_size=0.10, \n",
        "                                                stratify=df_uni['category_id'], \n",
        "                                                shuffle=True, random_state=10)"
      ],
      "execution_count": null,
      "outputs": []
    },
    {
      "cell_type": "code",
      "metadata": {
        "id": "GQ3V9OuBURE6"
      },
      "source": [
        "# train['item_name_tmp'] = train['item_name'].values\n",
        "# valid['item_name_tmp'] = valid['item_name'].values\n",
        "\n",
        "# train['item_name'] = train.item_name.apply(pre_process)\n",
        "# valid['item_name'] = valid.item_name.apply(pre_process)\n",
        "\n",
        "# train = create_features(train)\n",
        "# valid = create_features(valid)\n",
        "\n",
        "# train = fill_median(train)\n",
        "# valid = fill_median(valid)"
      ],
      "execution_count": null,
      "outputs": []
    },
    {
      "cell_type": "markdown",
      "metadata": {
        "id": "6YBELkmMBjuN"
      },
      "source": [
        "#Catboost Model"
      ]
    },
    {
      "cell_type": "code",
      "metadata": {
        "id": "bAuzm2DjUz6u"
      },
      "source": [
        "def get_catboost_model(cat_features, text_features):\n",
        "#   best_params={'bagging_temperature': 0.41010395885331385,\n",
        "#  'border_count': 186,\n",
        "#  'depth': 5,\n",
        "#  'iterations': 1000,\n",
        "#  'l2_leaf_reg': 21,\n",
        "#  #'learning_rate': 0.1#0.0673344419215237,\n",
        "#  'random_strength': 3.230824361824754e-06,\n",
        "#  }\n",
        "\n",
        "  model = CatBoostClassifier(\n",
        "      #**best_params,\n",
        "      cat_features=cat_features,\n",
        "      text_features=text_features,\n",
        "      verbose=50,\n",
        "      loss_function='MultiClass',\n",
        "      eval_metric='TotalF1',\n",
        "      task_type=\"GPU\",\n",
        "      iterations=1000,#1000,\n",
        "      learning_rate=0.5,      \n",
        "      # reg_lambda=0.0001,\n",
        "      \n",
        "      text_processing = {\n",
        "          \"tokenizers\" : [{\n",
        "              \"tokenizer_id\" : \"Space\",\n",
        "              \"separator_type\" : \"ByDelimiter\",\n",
        "              \"delimiter\" : \" \"\n",
        "          }],\n",
        "\n",
        "          \"dictionaries\" : [{\n",
        "              \"dictionary_id\" : \"BiGram\",\n",
        "              \"token_level_type\": \"Letter\",\n",
        "              \"max_dictionary_size\" : \"150000\",\n",
        "              \"occurrence_lower_bound\" : \"1\",\n",
        "              \"gram_order\" : \"2\"\n",
        "          },{\n",
        "              \"dictionary_id\" : \"Trigram\",\n",
        "              \"max_dictionary_size\" : \"150000\",\n",
        "              \"token_level_type\": \"Letter\",\n",
        "              \"occurrence_lower_bound\" : \"1\",\n",
        "              \"gram_order\" : \"3\"\n",
        "          },{\n",
        "              \"dictionary_id\" : \"Fourgram\",\n",
        "              \"max_dictionary_size\" : \"150000\",\n",
        "              \"token_level_type\": \"Letter\",\n",
        "              \"occurrence_lower_bound\" : \"1\",\n",
        "              \"gram_order\" : \"4\"\n",
        "          },{\n",
        "              \"dictionary_id\" : \"Fivegram\",\n",
        "              \"max_dictionary_size\" : \"150000\",\n",
        "              \"token_level_type\": \"Letter\",\n",
        "              \"occurrence_lower_bound\" : \"1\",\n",
        "              \"gram_order\" : \"5\"\n",
        "          },{\n",
        "              \"dictionary_id\" : \"Sixgram\",\n",
        "              \"max_dictionary_size\" : \"150000\",\n",
        "              \"token_level_type\": \"Letter\",\n",
        "              \"occurrence_lower_bound\" : \"1\",\n",
        "              \"gram_order\" : \"6\"\n",
        "          }\n",
        "          ],\n",
        "\n",
        "          \"feature_processing\" : {\n",
        "              \"default\" : [\n",
        "                      {\n",
        "                      \"dictionaries_names\" : [\"BiGram\", \"Trigram\", \"Fourgram\", \"Fivegram\", \"Sixgram\"],\n",
        "                      \"feature_calcers\" : [\"BoW\"],\n",
        "                      \"tokenizers_names\" : [\"Space\"]\n",
        "                  },\n",
        "                      {\n",
        "                  \"dictionaries_names\" : [\"BiGram\", \"Trigram\", \"Fourgram\", \"Fivegram\", \"Sixgram\"],\n",
        "                  \"feature_calcers\" : [\"NaiveBayes\"],\n",
        "                  \"tokenizers_names\" : [\"Space\"]\n",
        "              },{\n",
        "                  \"dictionaries_names\" : [ \"BiGram\", \"Trigram\", \"Fourgram\", \"Fivegram\", \"Sixgram\"],\n",
        "                  \"feature_calcers\" : [\"BM25\"],\n",
        "                  \"tokenizers_names\" : [\"Space\"]\n",
        "              },\n",
        "              ],\n",
        "          }\n",
        "      }\n",
        "    )\n",
        "\n",
        "  return model\n",
        "\n"
      ],
      "execution_count": null,
      "outputs": []
    },
    {
      "cell_type": "markdown",
      "metadata": {
        "id": "Vmk8SPEx06Eq"
      },
      "source": [
        "### Experimental Catboost run"
      ]
    },
    {
      "cell_type": "code",
      "metadata": {
        "id": "BNkxatI01EFb"
      },
      "source": [
        "model = get_catboost_model(cat_features, text_features)\n",
        "history = model.fit(\n",
        "    df[feature_names], df[target],\n",
        "    # eval_set=(valid[feature_names], valid[target]),\n",
        ")"
      ],
      "execution_count": null,
      "outputs": []
    },
    {
      "cell_type": "markdown",
      "metadata": {
        "id": "dS_Kewv01ErD"
      },
      "source": [
        "## Usual catboost"
      ]
    },
    {
      "cell_type": "code",
      "metadata": {
        "id": "ynxIlyJaEj-I"
      },
      "source": [
        "!ln -sf /opt/bin/nvidia-smi /usr/bin/nvidia-smi\n",
        "!pip install gputil\n",
        "import GPUtil as GPU\n",
        "GPUs = GPU.getGPUs()\n",
        "print(GPUs)\n",
        "gpu = GPUs[0]\n",
        "print(\"GPU RAM Free: {0:.0f}MB | Used: {1:.0f}MB | Util {2:3.0f}% | Total {3:.0f}MB\".format(gpu.memoryFree, gpu.memoryUsed, gpu.memoryUtil*100, gpu.memoryTotal))\n",
        "# assert gpu.memoryFree > 12000"
      ],
      "execution_count": null,
      "outputs": []
    },
    {
      "cell_type": "code",
      "metadata": {
        "id": "Dn9iPfZnVmlz"
      },
      "source": [
        "model = get_catboost_model(cat_features, text_features)\n",
        "history = model.fit(\n",
        "    train[feature_names], train[target],\n",
        "    eval_set=(valid[feature_names], valid[target]),\n",
        ")"
      ],
      "execution_count": null,
      "outputs": []
    },
    {
      "cell_type": "code",
      "metadata": {
        "id": "oFrKEhGSdp2P"
      },
      "source": [
        "model.get_feature_importance(prettified=True)"
      ],
      "execution_count": null,
      "outputs": []
    },
    {
      "cell_type": "markdown",
      "metadata": {
        "id": "RDXz_URcBsgX"
      },
      "source": [
        "# Model Training and Evualating"
      ]
    },
    {
      "cell_type": "code",
      "metadata": {
        "id": "rz6JxgG5eSkh"
      },
      "source": [
        "from sklearn.metrics import f1_score"
      ],
      "execution_count": null,
      "outputs": []
    },
    {
      "cell_type": "markdown",
      "metadata": {
        "id": "mo-KmpUVnE08"
      },
      "source": [
        "### Model loading"
      ]
    },
    {
      "cell_type": "code",
      "metadata": {
        "id": "_hYITFZ1mPe6"
      },
      "source": [
        "with open('/content/gdrive/MyDrive/Colab_Notebooks/DFC/Models/' + \"catboost.clf\", 'rb') as fout:\n",
        "    clf = pickle.loads(fout.read())"
      ],
      "execution_count": null,
      "outputs": []
    },
    {
      "cell_type": "code",
      "metadata": {
        "id": "7130q86hse4r"
      },
      "source": [
        "from matplotlib import pyplot as plt\n",
        "import seaborn as sns\n",
        "\n",
        "feature_importance_df = pd.DataFrame(clf.get_feature_importance(prettified=True))"
      ],
      "execution_count": null,
      "outputs": []
    },
    {
      "cell_type": "code",
      "metadata": {
        "colab": {
          "base_uri": "https://localhost:8080/"
        },
        "id": "kr9Id2cPs2iz",
        "outputId": "e78f2a40-fbeb-4d44-b9ed-8c94f87d92f2"
      },
      "source": [
        "feature_importance_df.columns"
      ],
      "execution_count": null,
      "outputs": [
        {
          "output_type": "execute_result",
          "data": {
            "text/plain": [
              "Index(['Feature Id', 'Importances'], dtype='object')"
            ]
          },
          "metadata": {
            "tags": []
          },
          "execution_count": 160
        }
      ]
    },
    {
      "cell_type": "code",
      "metadata": {
        "colab": {
          "base_uri": "https://localhost:8080/",
          "height": 404
        },
        "id": "2K--pkkRs2uf",
        "outputId": "88e648a8-d62f-4528-8b64-0af835b27aeb"
      },
      "source": [
        "plt.figure(figsize=(12, 6));\n",
        "sns.barplot(x=\"Importances\", y=\"Feature Id\", data=feature_importance_df);\n",
        "plt.title('CatBoost features importance:');"
      ],
      "execution_count": null,
      "outputs": [
        {
          "output_type": "display_data",
          "data": {
            "image/png": "[encoded data removed]",
            "text/plain": [
              "<Figure size 864x432 with 1 Axes>"
            ]
          },
          "metadata": {
            "tags": [],
            "needs_background": "light"
          }
        }
      ]
    },
    {
      "cell_type": "code",
      "metadata": {
        "colab": {
          "base_uri": "https://localhost:8080/"
        },
        "id": "myV4M0vnfKyW",
        "outputId": "573872c2-ebed-470e-8b62-319da2fa9145"
      },
      "source": [
        "f1_score(valid[target], clf.predict(valid[feature_names]), average='weighted')"
      ],
      "execution_count": null,
      "outputs": [
        {
          "output_type": "execute_result",
          "data": {
            "text/plain": [
              "0.818674744356778"
            ]
          },
          "metadata": {
            "tags": []
          },
          "execution_count": 145
        }
      ]
    },
    {
      "cell_type": "code",
      "metadata": {
        "colab": {
          "base_uri": "https://localhost:8080/"
        },
        "id": "EUx-T6YKqxM6",
        "outputId": "0f18c69d-6c94-4913-c65e-4263d428c13b"
      },
      "source": [
        "f1_score(valid[target], clf.predict_proba(valid[feature_names]).argmax(axis=1), average='weighted')"
      ],
      "execution_count": null,
      "outputs": [
        {
          "output_type": "execute_result",
          "data": {
            "text/plain": [
              "0.056980434014750336"
            ]
          },
          "metadata": {
            "tags": []
          },
          "execution_count": 169
        }
      ]
    },
    {
      "cell_type": "code",
      "metadata": {
        "colab": {
          "base_uri": "https://localhost:8080/",
          "height": 282
        },
        "id": "5HU0Zu1AtRB2",
        "outputId": "be6051d9-2537-470e-c03b-c8810c8f3531"
      },
      "source": [
        "pd.DataFrame(clf.predict_proba(valid[feature_names]), columns=clf.classes_).loc[0].plot()"
      ],
      "execution_count": null,
      "outputs": [
        {
          "output_type": "execute_result",
          "data": {
            "text/plain": [
              "<matplotlib.axes._subplots.AxesSubplot at 0x7f2ec1253d50>"
            ]
          },
          "metadata": {
            "tags": []
          },
          "execution_count": 179
        },
        {
          "output_type": "display_data",
          "data": {
            "image/png": "[encoded data removed]",
            "text/plain": [
              "<Figure size 432x288 with 1 Axes>"
            ]
          },
          "metadata": {
            "tags": [],
            "needs_background": "light"
          }
        }
      ]
    },
    {
      "cell_type": "code",
      "metadata": {
        "colab": {
          "base_uri": "https://localhost:8080/"
        },
        "id": "U1yP75dywteA",
        "outputId": "f4ec95dd-e279-4793-ba80-d2d010498860"
      },
      "source": [
        "valid[target].reset_index().loc[0]"
      ],
      "execution_count": null,
      "outputs": [
        {
          "output_type": "execute_result",
          "data": {
            "text/plain": [
              "index          12308819\n",
              "category_id          67\n",
              "Name: 0, dtype: int64"
            ]
          },
          "metadata": {
            "tags": []
          },
          "execution_count": 183
        }
      ]
    },
    {
      "cell_type": "code",
      "metadata": {
        "colab": {
          "base_uri": "https://localhost:8080/"
        },
        "id": "4zkXbeMcyLb-",
        "outputId": "b259ff15-1f7c-409b-ab9a-1eeeb331eb5f"
      },
      "source": [
        "clf.predict(valid[feature_names])[0]"
      ],
      "execution_count": null,
      "outputs": [
        {
          "output_type": "execute_result",
          "data": {
            "text/plain": [
              "array([71])"
            ]
          },
          "metadata": {
            "tags": []
          },
          "execution_count": 198
        }
      ]
    },
    {
      "cell_type": "code",
      "metadata": {
        "colab": {
          "base_uri": "https://localhost:8080/"
        },
        "id": "gS_aL0wtxN3K",
        "outputId": "f18a0b33-d86a-44eb-dda9-49962932e9e2"
      },
      "source": [
        "pd.DataFrame(clf.predict_proba(valid[feature_names]), columns=clf.classes_).loc[0][67]"
      ],
      "execution_count": null,
      "outputs": [
        {
          "output_type": "execute_result",
          "data": {
            "text/plain": [
              "0.0928257970514921"
            ]
          },
          "metadata": {
            "tags": []
          },
          "execution_count": 186
        }
      ]
    },
    {
      "cell_type": "code",
      "metadata": {
        "colab": {
          "base_uri": "https://localhost:8080/"
        },
        "id": "UlmhmR-dxoTm",
        "outputId": "df3e3e4b-debb-4728-9d3a-33548c6530fc"
      },
      "source": [
        "pd.DataFrame(clf.predict_proba(valid[feature_names]), columns=clf.classes_).loc[0].max()"
      ],
      "execution_count": null,
      "outputs": [
        {
          "output_type": "execute_result",
          "data": {
            "text/plain": [
              "0.7018380946886654"
            ]
          },
          "metadata": {
            "tags": []
          },
          "execution_count": 192
        }
      ]
    },
    {
      "cell_type": "code",
      "metadata": {
        "colab": {
          "base_uri": "https://localhost:8080/"
        },
        "id": "B_URm3BTx98q",
        "outputId": "95582488-eadc-4723-b4d0-27df0e011a09"
      },
      "source": [
        "pd.DataFrame(clf.predict_proba(valid[feature_names]), columns=clf.classes_).loc[0].argmax()"
      ],
      "execution_count": null,
      "outputs": [
        {
          "output_type": "execute_result",
          "data": {
            "text/plain": [
              "48"
            ]
          },
          "metadata": {
            "tags": []
          },
          "execution_count": 193
        }
      ]
    },
    {
      "cell_type": "code",
      "metadata": {
        "colab": {
          "base_uri": "https://localhost:8080/"
        },
        "id": "M15cF7eQxrPP",
        "outputId": "44cccbcc-6ea5-482e-e9ab-b799836221b8"
      },
      "source": [
        "clf.classes_[48]"
      ],
      "execution_count": null,
      "outputs": [
        {
          "output_type": "execute_result",
          "data": {
            "text/plain": [
              "71"
            ]
          },
          "metadata": {
            "tags": []
          },
          "execution_count": 199
        }
      ]
    },
    {
      "cell_type": "code",
      "metadata": {
        "id": "j6eu610FxrGQ"
      },
      "source": [
        "check_preds = [clf.classes_[cat] for cat in clf.predict_proba(valid[feature_names]).argmax(axis=1)]"
      ],
      "execution_count": null,
      "outputs": []
    },
    {
      "cell_type": "code",
      "metadata": {
        "colab": {
          "base_uri": "https://localhost:8080/"
        },
        "id": "kii6ezHtyy3w",
        "outputId": "1e9af26f-e4c1-4639-dafb-5a7f459ceab8"
      },
      "source": [
        "f1_score(valid[target], check_preds, average='weighted')"
      ],
      "execution_count": null,
      "outputs": [
        {
          "output_type": "execute_result",
          "data": {
            "text/plain": [
              "0.818674744356778"
            ]
          },
          "metadata": {
            "tags": []
          },
          "execution_count": 203
        }
      ]
    },
    {
      "cell_type": "code",
      "metadata": {
        "colab": {
          "base_uri": "https://localhost:8080/"
        },
        "id": "QnudKqyqy3C0",
        "outputId": "92ccea48-2d16-4d90-e65e-396726230800"
      },
      "source": [
        "predictions = ( 0.9 * clf.predict_proba(valid[feature_names]) + 0.2 * clf.predict_proba(valid[feature_names]) ) / 2.0\n",
        "check_predictions = [clf.classes_[cat] for cat in predictions.argmax(axis=1)]\n",
        "f1_score(valid[target], check_predictions, average='weighted')"
      ],
      "execution_count": null,
      "outputs": [
        {
          "output_type": "execute_result",
          "data": {
            "text/plain": [
              "0.818674744356778"
            ]
          },
          "metadata": {
            "tags": []
          },
          "execution_count": 211
        }
      ]
    },
    {
      "cell_type": "code",
      "metadata": {
        "id": "sg5GTv-hzeIY"
      },
      "source": [
        ""
      ],
      "execution_count": null,
      "outputs": []
    },
    {
      "cell_type": "code",
      "metadata": {
        "id": "Uqv8sHBYy4ME"
      },
      "source": [
        ""
      ],
      "execution_count": null,
      "outputs": []
    },
    {
      "cell_type": "code",
      "metadata": {
        "id": "YZJGf7Y5of-S"
      },
      "source": [
        "# preds = clf.predict_proba(valid[feature_names])\n",
        "# preds = (preds + preds) / 2\n",
        "# preds.argmax(axis=1)\n",
        "\n",
        "# pd.get_dummies(preds.argmax(axis=1))"
      ],
      "execution_count": null,
      "outputs": []
    },
    {
      "cell_type": "code",
      "metadata": {
        "id": "AJaQbM_TdfsK"
      },
      "source": [
        ""
      ],
      "execution_count": null,
      "outputs": []
    },
    {
      "cell_type": "markdown",
      "metadata": {
        "id": "B68gh4Caek9C"
      },
      "source": [
        "Simple ensemble"
      ]
    },
    {
      "cell_type": "code",
      "metadata": {
        "colab": {
          "base_uri": "https://localhost:8080/",
          "height": 570,
          "referenced_widgets": [
            "b7324a3b639a495aac2049e22d7b8547",
            "68265ebaeadc44d4906009d2524ceb3d",
            "3206f5b79663468bb569e3c619aad2b1",
            "589a7551d3ae4e0cb2736df293bbcb89",
            "3019d71c90a747aba43d2919bf3e5c19",
            "d0dba23e5a894599ad57aa163ff8ef1f",
            "d532e37dab254bac8856a5b2f23bbee2",
            "d3944d9e7b25471fb62916b70c456632"
          ]
        },
        "id": "AfJK92pkemvE",
        "outputId": "f0a0682a-a119-41d4-ee98-3a7bf3948b70"
      },
      "source": [
        "num_ensembles = 2 #5\n",
        "y_pred = 0.0\n",
        "for i in tqdm(range(num_ensembles)):\n",
        "    # TODO(you): Use CV, tune hyperparameters\n",
        "    model = get_catboost_model(cat_features, text_features)\n",
        "    history = model.fit(\n",
        "        train[feature_names], train[target],\n",
        "        eval_set=(valid[feature_names], valid[target]),\n",
        "    )\n",
        "    y_pred += model.predict_proba(valid[feature_names])\n",
        "y_pred /= num_ensembles"
      ],
      "execution_count": null,
      "outputs": [
        {
          "output_type": "display_data",
          "data": {
            "application/vnd.jupyter.widget-view+json": {
              "model_id": "b7324a3b639a495aac2049e22d7b8547",
              "version_minor": 0,
              "version_major": 2
            },
            "text/plain": [
              "HBox(children=(FloatProgress(value=0.0, max=2.0), HTML(value='')))"
            ]
          },
          "metadata": {
            "tags": []
          }
        },
        {
          "output_type": "stream",
          "text": [
            "0:\tlearn: 0.1753661\ttest: 0.1824299\tbest: 0.1824299 (0)\ttotal: 1.43s\tremaining: 13m 4s\n",
            "50:\tlearn: 0.7365318\ttest: 0.7686276\tbest: 0.7686276 (50)\ttotal: 1m 7s\tremaining: 11m 4s\n",
            "100:\tlearn: 0.7648716\ttest: 0.7876903\tbest: 0.7879174 (99)\ttotal: 2m 10s\tremaining: 9m 38s\n",
            "150:\tlearn: 0.7869397\ttest: 0.7968167\tbest: 0.7972429 (136)\ttotal: 3m 17s\tremaining: 8m 40s\n",
            "200:\tlearn: 0.8043147\ttest: 0.8011652\tbest: 0.8018126 (198)\ttotal: 4m 23s\tremaining: 7m 36s\n",
            "250:\tlearn: 0.8185283\ttest: 0.8068102\tbest: 0.8069672 (249)\ttotal: 5m 27s\tremaining: 6m 30s\n",
            "300:\tlearn: 0.8317457\ttest: 0.8098689\tbest: 0.8108305 (299)\ttotal: 6m 30s\tremaining: 5m 22s\n",
            "350:\tlearn: 0.8423068\ttest: 0.8087512\tbest: 0.8108305 (299)\ttotal: 7m 31s\tremaining: 4m 16s\n",
            "400:\tlearn: 0.8528740\ttest: 0.8112619\tbest: 0.8114426 (397)\ttotal: 8m 33s\tremaining: 3m 10s\n",
            "450:\tlearn: 0.8624228\ttest: 0.8113850\tbest: 0.8118228 (415)\ttotal: 9m 33s\tremaining: 2m 5s\n",
            "500:\tlearn: 0.8713137\ttest: 0.8121137\tbest: 0.8132477 (477)\ttotal: 10m 33s\tremaining: 1m 1s\n",
            "549:\tlearn: 0.8776002\ttest: 0.8126666\tbest: 0.8132477 (477)\ttotal: 11m 31s\tremaining: 0us\n",
            "bestTest = 0.8132476734\n",
            "bestIteration = 477\n",
            "Shrink model to first 478 iterations.\n",
            "0:\tlearn: 0.1753661\ttest: 0.1824299\tbest: 0.1824299 (0)\ttotal: 1.44s\tremaining: 13m 12s\n",
            "50:\tlearn: 0.7360086\ttest: 0.7688123\tbest: 0.7688123 (50)\ttotal: 1m 7s\tremaining: 10m 58s\n",
            "100:\tlearn: 0.7646715\ttest: 0.7876262\tbest: 0.7877521 (98)\ttotal: 2m 10s\tremaining: 9m 38s\n",
            "150:\tlearn: 0.7841895\ttest: 0.7909295\tbest: 0.7942528 (124)\ttotal: 3m 17s\tremaining: 8m 41s\n",
            "200:\tlearn: 0.8025114\ttest: 0.7987018\tbest: 0.7987018 (200)\ttotal: 4m 25s\tremaining: 7m 40s\n",
            "250:\tlearn: 0.8165402\ttest: 0.8021314\tbest: 0.8024932 (249)\ttotal: 5m 28s\tremaining: 6m 31s\n",
            "300:\tlearn: 0.8283901\ttest: 0.8063819\tbest: 0.8063819 (300)\ttotal: 6m 30s\tremaining: 5m 22s\n",
            "350:\tlearn: 0.8402218\ttest: 0.8071595\tbest: 0.8071595 (350)\ttotal: 7m 31s\tremaining: 4m 16s\n",
            "400:\tlearn: 0.8508156\ttest: 0.8071934\tbest: 0.8079065 (355)\ttotal: 8m 32s\tremaining: 3m 10s\n",
            "450:\tlearn: 0.8592707\ttest: 0.8108722\tbest: 0.8109281 (448)\ttotal: 9m 31s\tremaining: 2m 5s\n",
            "500:\tlearn: 0.8671363\ttest: 0.8115337\tbest: 0.8123893 (487)\ttotal: 10m 31s\tremaining: 1m 1s\n",
            "549:\tlearn: 0.8741903\ttest: 0.8106419\tbest: 0.8124190 (534)\ttotal: 11m 28s\tremaining: 0us\n",
            "bestTest = 0.812418996\n",
            "bestIteration = 534\n",
            "Shrink model to first 535 iterations.\n",
            "\n"
          ],
          "name": "stdout"
        }
      ]
    },
    {
      "cell_type": "code",
      "metadata": {
        "colab": {
          "base_uri": "https://localhost:8080/"
        },
        "id": "4wDuOUstgyST",
        "outputId": "454df834-e99b-4545-ad70-806d3eb583f0"
      },
      "source": [
        "y_pred"
      ],
      "execution_count": null,
      "outputs": [
        {
          "output_type": "execute_result",
          "data": {
            "text/plain": [
              "array([[2.54711460e-03, 4.46008181e-06, 5.25134676e-04, ...,\n",
              "        2.77888909e-04, 1.58748495e-04, 1.22171343e-01],\n",
              "       [1.44516393e-05, 2.92733358e-07, 6.49911236e-06, ...,\n",
              "        2.68545500e-06, 6.07150380e-06, 9.07532016e-04],\n",
              "       [1.56601253e-03, 2.55125423e-05, 5.57399842e-03, ...,\n",
              "        5.06900427e-04, 3.71437063e-03, 3.98332558e-01],\n",
              "       ...,\n",
              "       [4.44526533e-05, 6.44139581e-05, 1.51372108e-04, ...,\n",
              "        5.41506492e-03, 6.70172356e-04, 7.37372592e-03],\n",
              "       [1.05109669e-02, 1.00301251e-03, 1.42829041e-03, ...,\n",
              "        4.68247904e-03, 9.52220586e-05, 2.50249611e-02],\n",
              "       [4.14420073e-04, 3.75359564e-04, 3.47161057e-04, ...,\n",
              "        6.32646922e-05, 2.58950804e-04, 5.13491877e-03]])"
            ]
          },
          "metadata": {
            "tags": []
          },
          "execution_count": 217
        }
      ]
    },
    {
      "cell_type": "code",
      "metadata": {
        "colab": {
          "base_uri": "https://localhost:8080/"
        },
        "id": "UK2uFbwDBC08",
        "outputId": "b71a9cc6-5ccd-48ce-f81d-410899e5cc94"
      },
      "source": [
        "check_predictions = [clf.classes_[cat] for cat in y_pred.argmax(axis=1)]\n",
        "f1_score(valid[target], check_predictions, average='weighted')"
      ],
      "execution_count": null,
      "outputs": [
        {
          "output_type": "execute_result",
          "data": {
            "text/plain": [
              "0.8116086485480347"
            ]
          },
          "metadata": {
            "tags": []
          },
          "execution_count": 218
        }
      ]
    },
    {
      "cell_type": "code",
      "metadata": {
        "id": "xwmF89QsBHO4"
      },
      "source": [
        ""
      ],
      "execution_count": null,
      "outputs": []
    }
  ]
}