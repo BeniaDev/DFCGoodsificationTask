{
  "nbformat": 4,
  "nbformat_minor": 0,
  "metadata": {
    "colab": {
      "name": "pseudo_labeling_baseline.ipynb",
      "provenance": []
    },
    "kernelspec": {
      "name": "python3",
      "display_name": "Python 3"
    },
    "language_info": {
      "name": "python"
    },
    "accelerator": "GPU"
  },
  "cells": [
    {
      "cell_type": "code",
      "metadata": {
        "colab": {
          "base_uri": "https://localhost:8080/"
        },
        "id": "jmV-9MnDBA_l",
        "outputId": "10af98a0-606c-449d-d364-4dd90b11af09"
      },
      "source": [
        "import random, torch\n",
        "SEED = 42\n",
        "\n",
        "random.seed(SEED)\n",
        "torch.manual_seed(SEED)\n",
        "torch.backends.cudnn.deterministic = True\n",
        "\n",
        "device = torch.device(\"cuda\" if torch.cuda.is_available() else \"cpu\")\n",
        "if device == 'cpu':\n",
        "    print('cpu')\n",
        "else:\n",
        "    n_gpu = torch.cuda.device_count()\n",
        "    print(torch.cuda.get_device_name(0))\n",
        "  "
      ],
      "execution_count": 2,
      "outputs": [
        {
          "output_type": "stream",
          "text": [
            "Tesla T4\n"
          ],
          "name": "stdout"
        }
      ]
    },
    {
      "cell_type": "code",
      "metadata": {
        "id": "TE-Q1y3kBR9P"
      },
      "source": [
        "import math\n",
        "import os\n",
        "import re\n",
        "import time\n",
        "import pickle\n",
        "\n",
        "from keras.preprocessing.sequence import pad_sequences\n",
        "import numpy as np\n",
        "import pandas as pd\n",
        "from sklearn.model_selection import train_test_split\n",
        "from sklearn.metrics import f1_score, classification_report\n",
        "from tqdm import tqdm_notebook as tqdm\n",
        "\n",
        "import matplotlib.pyplot as plt\n",
        "%matplotlib inline\n",
        "from IPython.display import clear_output\n"
      ],
      "execution_count": 3,
      "outputs": []
    },
    {
      "cell_type": "code",
      "metadata": {
        "colab": {
          "base_uri": "https://localhost:8080/"
        },
        "id": "S9Ey0l8LBZdq",
        "outputId": "4caa6fd8-0ab0-4749-d153-31b627e5ce50"
      },
      "source": [
        "DATA_PATH_CLOUD = '/content/gdrive/MyDrive/DS/DFC/data/'\n",
        "\n",
        "# mounting folder from google drive         \n",
        "from google.colab import drive\n",
        "drive.mount('/content/gdrive')"
      ],
      "execution_count": 4,
      "outputs": [
        {
          "output_type": "stream",
          "text": [
            "Drive already mounted at /content/gdrive; to attempt to forcibly remount, call drive.mount(\"/content/gdrive\", force_remount=True).\n"
          ],
          "name": "stdout"
        }
      ]
    },
    {
      "cell_type": "markdown",
      "metadata": {
        "id": "LlsGI3RDC6k3"
      },
      "source": [
        "# Подготовка данных"
      ]
    },
    {
      "cell_type": "code",
      "metadata": {
        "id": "XAjZsJoRBZ-M"
      },
      "source": [
        "# Загружаем исходные данные из паркет-файла и выполняем небольшую предобработку\n",
        "def replace_re(text, regexp, inplace): \n",
        "    return regexp.sub(inplace, text)\n",
        "\n",
        "use_threads=False\n",
        "data = pd.read_parquet(DATA_PATH_CLOUD + \"data_fusion_train.parquet\", columns=['item_name', 'category_id'])\n",
        "regex_punc = re.compile('[%s]'%re.escape('!?'))\n",
        "data['item_name'] = data['item_name'].apply(lambda x: replace_re(x, regex_punc, ' '))\n",
        "data['item_name'] = data['item_name'].apply(lambda x: x.strip())\n",
        "regex_seq_spaces = re.compile(' {2,}')\n",
        "data['item_name'] = data['item_name'].apply(lambda x: replace_re(x, regex_seq_spaces, ' '))\n",
        "data['item_name'] = data['item_name'].apply(lambda x: x.lower())\n",
        "data = data[data.category_id != -1].drop_duplicates('item_name')"
      ],
      "execution_count": 5,
      "outputs": []
    },
    {
      "cell_type": "code",
      "metadata": {
        "colab": {
          "base_uri": "https://localhost:8080/",
          "height": 195
        },
        "id": "te6Lp1DeDnU1",
        "outputId": "914f07e0-68e8-4a90-a3ae-8540bc59d839"
      },
      "source": [
        "data.head()"
      ],
      "execution_count": 6,
      "outputs": [
        {
          "output_type": "execute_result",
          "data": {
            "text/html": [
              "<div>\n",
              "<style scoped>\n",
              "    .dataframe tbody tr th:only-of-type {\n",
              "        vertical-align: middle;\n",
              "    }\n",
              "\n",
              "    .dataframe tbody tr th {\n",
              "        vertical-align: top;\n",
              "    }\n",
              "\n",
              "    .dataframe thead th {\n",
              "        text-align: right;\n",
              "    }\n",
              "</style>\n",
              "<table border=\"1\" class=\"dataframe\">\n",
              "  <thead>\n",
              "    <tr style=\"text-align: right;\">\n",
              "      <th></th>\n",
              "      <th>item_name</th>\n",
              "      <th>category_id</th>\n",
              "    </tr>\n",
              "  </thead>\n",
              "  <tbody>\n",
              "    <tr>\n",
              "      <th>1</th>\n",
              "      <td>молоко 3,2%,шт</td>\n",
              "      <td>78</td>\n",
              "    </tr>\n",
              "    <tr>\n",
              "      <th>3</th>\n",
              "      <td>компот из изюма, 114 ккал</td>\n",
              "      <td>71</td>\n",
              "    </tr>\n",
              "    <tr>\n",
              "      <th>4</th>\n",
              "      <td>макаронные изделия отварные (масло сливочное),...</td>\n",
              "      <td>71</td>\n",
              "    </tr>\n",
              "    <tr>\n",
              "      <th>17</th>\n",
              "      <td>кофе капучино большой эден 18</td>\n",
              "      <td>70</td>\n",
              "    </tr>\n",
              "    <tr>\n",
              "      <th>40</th>\n",
              "      <td>хлеб на сыворотке 350г</td>\n",
              "      <td>84</td>\n",
              "    </tr>\n",
              "  </tbody>\n",
              "</table>\n",
              "</div>"
            ],
            "text/plain": [
              "                                            item_name  category_id\n",
              "1                                      молоко 3,2%,шт           78\n",
              "3                           компот из изюма, 114 ккал           71\n",
              "4   макаронные изделия отварные (масло сливочное),...           71\n",
              "17                      кофе капучино большой эден 18           70\n",
              "40                             хлеб на сыворотке 350г           84"
            ]
          },
          "metadata": {
            "tags": []
          },
          "execution_count": 6
        }
      ]
    },
    {
      "cell_type": "code",
      "metadata": {
        "id": "D5w79at7BWwq"
      },
      "source": [
        "# Загружаем данные с псевдо разметкой\n",
        "# Предобработка не выполняется, т.к. item_name c псевдо разметкой уже предобработаны\n",
        "df_pseudo = pd.read_csv(DATA_PATH_CLOUD + \"pseudo.csv\", lineterminator='\\n')\n",
        "df_pseudo.columns = ['item_name',\t'category_id']\n",
        "df_pseudo = df_pseudo.dropna(subset=['category_id'])"
      ],
      "execution_count": 7,
      "outputs": []
    },
    {
      "cell_type": "code",
      "metadata": {
        "colab": {
          "base_uri": "https://localhost:8080/",
          "height": 195
        },
        "id": "Hlx60tmaDrrf",
        "outputId": "d352d7db-45b3-4920-9a54-9a8569d0cf01"
      },
      "source": [
        "df_pseudo.head()"
      ],
      "execution_count": 8,
      "outputs": [
        {
          "output_type": "execute_result",
          "data": {
            "text/html": [
              "<div>\n",
              "<style scoped>\n",
              "    .dataframe tbody tr th:only-of-type {\n",
              "        vertical-align: middle;\n",
              "    }\n",
              "\n",
              "    .dataframe tbody tr th {\n",
              "        vertical-align: top;\n",
              "    }\n",
              "\n",
              "    .dataframe thead th {\n",
              "        text-align: right;\n",
              "    }\n",
              "</style>\n",
              "<table border=\"1\" class=\"dataframe\">\n",
              "  <thead>\n",
              "    <tr style=\"text-align: right;\">\n",
              "      <th></th>\n",
              "      <th>item_name</th>\n",
              "      <th>category_id</th>\n",
              "    </tr>\n",
              "  </thead>\n",
              "  <tbody>\n",
              "    <tr>\n",
              "      <th>0</th>\n",
              "      <td>merci шок мол лес орех/минд100г</td>\n",
              "      <td>84</td>\n",
              "    </tr>\n",
              "    <tr>\n",
              "      <th>1</th>\n",
              "      <td>лимонад \"грейпфрут\" 0 5л (стекло)</td>\n",
              "      <td>83</td>\n",
              "    </tr>\n",
              "    <tr>\n",
              "      <th>2</th>\n",
              "      <td>свекла с кальм в майон 1 кг</td>\n",
              "      <td>71</td>\n",
              "    </tr>\n",
              "    <tr>\n",
              "      <th>3</th>\n",
              "      <td>1 капотен таб 25мг №40bristol-myer</td>\n",
              "      <td>38</td>\n",
              "    </tr>\n",
              "    <tr>\n",
              "      <th>4</th>\n",
              "      <td>пена монтажная профессиональная kudo всесез ho...</td>\n",
              "      <td>114</td>\n",
              "    </tr>\n",
              "  </tbody>\n",
              "</table>\n",
              "</div>"
            ],
            "text/plain": [
              "                                           item_name  category_id\n",
              "0                    merci шок мол лес орех/минд100г           84\n",
              "1                  лимонад \"грейпфрут\" 0 5л (стекло)           83\n",
              "2                        свекла с кальм в майон 1 кг           71\n",
              "3                 1 капотен таб 25мг №40bristol-myer           38\n",
              "4  пена монтажная профессиональная kudo всесез ho...          114"
            ]
          },
          "metadata": {
            "tags": []
          },
          "execution_count": 8
        }
      ]
    },
    {
      "cell_type": "code",
      "metadata": {
        "colab": {
          "base_uri": "https://localhost:8080/"
        },
        "id": "TFE3QLznD0PU",
        "outputId": "cf569345-81fa-487a-905d-158fa2388ec8"
      },
      "source": [
        "df_pseudo.shape"
      ],
      "execution_count": 9,
      "outputs": [
        {
          "output_type": "execute_result",
          "data": {
            "text/plain": [
              "(107503, 2)"
            ]
          },
          "metadata": {
            "tags": []
          },
          "execution_count": 9
        }
      ]
    },
    {
      "cell_type": "code",
      "metadata": {
        "id": "IrUDSIN_D2r3"
      },
      "source": [
        "cols = [\"item_name\", \"category_id\"]\n",
        "united_df = pd.concat(\n",
        "    [data[cols],\n",
        "     df_pseudo[cols]],\n",
        "      ignore_index=True\n",
        "     )\n",
        "united_df = united_df.dropna(subset=['category_id']).drop_duplicates('item_name')"
      ],
      "execution_count": 10,
      "outputs": []
    },
    {
      "cell_type": "code",
      "metadata": {
        "colab": {
          "base_uri": "https://localhost:8080/"
        },
        "id": "VaoQtpz5Ek30",
        "outputId": "7c639490-1817-4ff6-c01c-b6ae712893a5"
      },
      "source": [
        "united_df.shape"
      ],
      "execution_count": 11,
      "outputs": [
        {
          "output_type": "execute_result",
          "data": {
            "text/plain": [
              "(155394, 2)"
            ]
          },
          "metadata": {
            "tags": []
          },
          "execution_count": 11
        }
      ]
    },
    {
      "cell_type": "markdown",
      "metadata": {
        "id": "2Qb_dd_JEvP1"
      },
      "source": [
        "#Обучение Catboost"
      ]
    },
    {
      "cell_type": "code",
      "metadata": {
        "colab": {
          "base_uri": "https://localhost:8080/"
        },
        "id": "IG48bpXTExZh",
        "outputId": "115bab7a-4166-48ca-b408-8c5c626d8244"
      },
      "source": [
        "!pip3 install catboost"
      ],
      "execution_count": 12,
      "outputs": [
        {
          "output_type": "stream",
          "text": [
            "Requirement already satisfied: catboost in /usr/local/lib/python3.7/dist-packages (0.25.1)\n",
            "Requirement already satisfied: plotly in /usr/local/lib/python3.7/dist-packages (from catboost) (4.4.1)\n",
            "Requirement already satisfied: pandas>=0.24.0 in /usr/local/lib/python3.7/dist-packages (from catboost) (1.1.5)\n",
            "Requirement already satisfied: six in /usr/local/lib/python3.7/dist-packages (from catboost) (1.15.0)\n",
            "Requirement already satisfied: numpy>=1.16.0 in /usr/local/lib/python3.7/dist-packages (from catboost) (1.19.5)\n",
            "Requirement already satisfied: graphviz in /usr/local/lib/python3.7/dist-packages (from catboost) (0.10.1)\n",
            "Requirement already satisfied: scipy in /usr/local/lib/python3.7/dist-packages (from catboost) (1.4.1)\n",
            "Requirement already satisfied: matplotlib in /usr/local/lib/python3.7/dist-packages (from catboost) (3.2.2)\n",
            "Requirement already satisfied: retrying>=1.3.3 in /usr/local/lib/python3.7/dist-packages (from plotly->catboost) (1.3.3)\n",
            "Requirement already satisfied: python-dateutil>=2.7.3 in /usr/local/lib/python3.7/dist-packages (from pandas>=0.24.0->catboost) (2.8.1)\n",
            "Requirement already satisfied: pytz>=2017.2 in /usr/local/lib/python3.7/dist-packages (from pandas>=0.24.0->catboost) (2018.9)\n",
            "Requirement already satisfied: kiwisolver>=1.0.1 in /usr/local/lib/python3.7/dist-packages (from matplotlib->catboost) (1.3.1)\n",
            "Requirement already satisfied: pyparsing!=2.0.4,!=2.1.2,!=2.1.6,>=2.0.1 in /usr/local/lib/python3.7/dist-packages (from matplotlib->catboost) (2.4.7)\n",
            "Requirement already satisfied: cycler>=0.10 in /usr/local/lib/python3.7/dist-packages (from matplotlib->catboost) (0.10.0)\n"
          ],
          "name": "stdout"
        }
      ]
    },
    {
      "cell_type": "code",
      "metadata": {
        "id": "_fMh2xSjExs8"
      },
      "source": [
        "from catboost import Pool, CatBoostClassifier"
      ],
      "execution_count": 13,
      "outputs": []
    },
    {
      "cell_type": "code",
      "metadata": {
        "colab": {
          "base_uri": "https://localhost:8080/",
          "height": 283
        },
        "id": "-cRHiej5E19e",
        "outputId": "4105ad7f-d482-46aa-9f9e-dad402918d3f"
      },
      "source": [
        "united_df['category_id'].hist()"
      ],
      "execution_count": 14,
      "outputs": [
        {
          "output_type": "execute_result",
          "data": {
            "text/plain": [
              "<matplotlib.axes._subplots.AxesSubplot at 0x7f89832efa50>"
            ]
          },
          "metadata": {
            "tags": []
          },
          "execution_count": 14
        },
        {
          "output_type": "display_data",
          "data": {
            "image/png": "[encoded data removed]",
            "text/plain": [
              "<Figure size 432x288 with 1 Axes>"
            ]
          },
          "metadata": {
            "tags": [],
            "needs_background": "light"
          }
        }
      ]
    },
    {
      "cell_type": "code",
      "metadata": {
        "id": "MCPoA7sqEmRc"
      },
      "source": [
        "text_features = ['item_name']\n",
        "target = 'category_id'"
      ],
      "execution_count": 17,
      "outputs": []
    },
    {
      "cell_type": "code",
      "metadata": {
        "id": "EGXd9va2Fl1C"
      },
      "source": [
        "def create_features(data):\n",
        "    data['first'] = data['item_name'].apply(lambda x: x.split()[0] if len(x.split()) > 0 else 'none')\n",
        "    data['last'] = data['item_name'].apply(lambda x: x.split()[-1] if len(x.split()) > 0 else 'none')\n",
        "    data['is_preservativ'] = data.item_name.apply(lambda x: int('презерватив' in x.lower()))\n",
        "    data['is_auto'] = data.item_name.apply(lambda x: int('авто' in x.lower() or \\\n",
        "                                                            'щетк' in x.lower() or \\\n",
        "                                                             'сантиметр' in x.lower()))\n",
        "\n",
        "    data['is_paper'] = data.item_name.apply(lambda x: int('бумага' in x.lower()))\n",
        "    data['is_otkritka'] = data.item_name.apply(lambda x: int('открытка' in x.lower()))\n",
        "    data['is_born'] = data.item_name.apply(lambda x: int('рождения' in x.lower()))\n",
        "    data['is_a4'] = data.item_name.apply(lambda x: int('а4' in x.lower()))\n",
        "    data['is_ubiley'] = data.item_name.apply(lambda x: int('юбиле' in x.lower()))\n",
        "\n",
        "    #24\n",
        "    data['is_list'] = data.item_name.apply(lambda x: int('лист' in x.lower()))\n",
        "    data['is_kanc'] = data.item_name.apply(lambda x: int('канцелярский' in x.lower()))\n",
        "    data['is_dnevnik'] = data.item_name.apply(lambda x: int('дневник' in x.lower()))\n",
        "    \n",
        "    data['second_last_word'] = data.item_name.apply(lambda x: x.split()[-2] if len(x.split()) > 1 else 'none')\n",
        "    data['second_first_word'] = data.item_name.apply(lambda x: x.split()[1] if len(x.split()) > 1 else 'none')\n",
        "\n",
        "    data['first_word_len'] = data['first'].apply(len)\n",
        "    data['last_word_len'] = data['last'].apply(len)\n",
        "\n",
        "    data['item_name_len'] = data.item_name.apply(lambda x: len(x.split()))\n",
        "\n",
        "    data['last_first_word'] = data['last'] + data['first']\n",
        "    return data"
      ],
      "execution_count": 18,
      "outputs": []
    },
    {
      "cell_type": "code",
      "metadata": {
        "id": "0ALr6EHOFxNR"
      },
      "source": [
        "import nltk\n",
        "import string\n",
        "from nltk.tokenize import WordPunctTokenizer "
      ],
      "execution_count": 22,
      "outputs": []
    },
    {
      "cell_type": "code",
      "metadata": {
        "colab": {
          "base_uri": "https://localhost:8080/"
        },
        "id": "RgOgemyDF3fi",
        "outputId": "89c4b81c-44f0-4180-ccd8-39ab41457a0d"
      },
      "source": [
        "#подготовка к препроцессингу\n",
        "\n",
        "nltk.download('punkt', download_dir='nltk_models')\n",
        "nltk.download('stopwords', download_dir='nltk_models')\n",
        "!git clone https://github.com/natasha/razdel.git\n",
        "!pip uninstall -y razdel\n",
        "!pip3 install razdel"
      ],
      "execution_count": 24,
      "outputs": [
        {
          "output_type": "stream",
          "text": [
            "[nltk_data] Downloading package punkt to nltk_models...\n",
            "[nltk_data]   Package punkt is already up-to-date!\n",
            "[nltk_data] Downloading package stopwords to nltk_models...\n",
            "[nltk_data]   Package stopwords is already up-to-date!\n"
          ],
          "name": "stdout"
        },
        {
          "output_type": "execute_result",
          "data": {
            "text/plain": [
              "True"
            ]
          },
          "metadata": {
            "tags": []
          },
          "execution_count": 24
        }
      ]
    },
    {
      "cell_type": "code",
      "metadata": {
        "colab": {
          "base_uri": "https://localhost:8080/"
        },
        "id": "boD2Lo0tF9TF",
        "outputId": "947ce732-a81b-4d4d-a76d-387cdb5d4db3"
      },
      "source": [
        "from razdel import tokenize\n",
        "from nltk.corpus import stopwords\n",
        "\n",
        "nltk.download('stopwords')\n",
        "RU_STOP_WORDS = set(stopwords.words('russian'))\n",
        "\n",
        "# def prepare(token):\n",
        "#      return re.sub(\"[^0-9A-Za-zА-Яа-я ]\", \"\", token)\n",
        "    \n",
        "\n",
        "def pre_process(text):\n",
        "    return \" \".join([token.lower() for token in [_.text for _ in tokenize(text)]\n",
        "                     if (token not in RU_STOP_WORDS) or (token not in string.punctuation)])"
      ],
      "execution_count": 40,
      "outputs": [
        {
          "output_type": "stream",
          "text": [
            "[nltk_data] Downloading package stopwords to /root/nltk_data...\n",
            "[nltk_data]   Package stopwords is already up-to-date!\n"
          ],
          "name": "stdout"
        }
      ]
    },
    {
      "cell_type": "code",
      "metadata": {
        "id": "qgm57PFOF-id"
      },
      "source": [
        "# train['item_name_tmp'] = train['item_name'].values\n",
        "# valid['item_name_tmp'] = valid['item_name'].values\n",
        "\n",
        "# train['item_name'] = train.item_name.apply(pre_process)\n",
        "# valid['item_name'] = valid.item_name.apply(pre_process)\n",
        "\n",
        "def replace_re(text, regexp, inplace): \n",
        "    return regexp.sub(inplace, text)\n",
        "    \n",
        "regex_punc = re.compile('[%s]'%re.escape('.,!?'))\n",
        "united_df['item_name'] = united_df['item_name'].apply(lambda x: replace_re(x, regex_punc, ' '))\n",
        "regex_seq_spaces = re.compile(' {2,}')\n",
        "united_df['item_name'] = united_df['item_name'].apply(lambda x: x.strip())\n",
        "united_df['item_name'] = united_df['item_name'].apply(lambda x: replace_re(x, regex_seq_spaces, ' '))\n",
        "united_df['item_name'] = united_df['item_name'].apply(lambda x: x.lower())\n",
        "\n",
        "united_df['item_name'] = united_df['item_name'].apply(lambda x: pre_process(x))"
      ],
      "execution_count": 50,
      "outputs": []
    },
    {
      "cell_type": "code",
      "metadata": {
        "colab": {
          "base_uri": "https://localhost:8080/"
        },
        "id": "Os7t3F39FCsO",
        "outputId": "c36c4df7-a48d-472e-ce62-88729f32c43d"
      },
      "source": [
        "train, valid = train_test_split(united_df,\n",
        "                                                test_size=0.10, \n",
        "                                                stratify=united_df['category_id'], \n",
        "                                                shuffle=True, random_state=42)\n",
        "\n",
        "train.shape, valid.shape"
      ],
      "execution_count": 51,
      "outputs": [
        {
          "output_type": "execute_result",
          "data": {
            "text/plain": [
              "((139854, 2), (15540, 2))"
            ]
          },
          "metadata": {
            "tags": []
          },
          "execution_count": 51
        }
      ]
    },
    {
      "cell_type": "code",
      "metadata": {
        "colab": {
          "base_uri": "https://localhost:8080/"
        },
        "id": "tw4GOv6uGGzW",
        "outputId": "52f3c7bf-770a-4f10-ab0a-1648a3ec6596"
      },
      "source": [
        "train = create_features(train)\n",
        "valid = create_features(valid)"
      ],
      "execution_count": 52,
      "outputs": [
        {
          "output_type": "stream",
          "text": [
            "/usr/local/lib/python3.7/dist-packages/ipykernel_launcher.py:2: SettingWithCopyWarning: \n",
            "A value is trying to be set on a copy of a slice from a DataFrame.\n",
            "Try using .loc[row_indexer,col_indexer] = value instead\n",
            "\n",
            "See the caveats in the documentation: https://pandas.pydata.org/pandas-docs/stable/user_guide/indexing.html#returning-a-view-versus-a-copy\n",
            "  \n",
            "/usr/local/lib/python3.7/dist-packages/ipykernel_launcher.py:3: SettingWithCopyWarning: \n",
            "A value is trying to be set on a copy of a slice from a DataFrame.\n",
            "Try using .loc[row_indexer,col_indexer] = value instead\n",
            "\n",
            "See the caveats in the documentation: https://pandas.pydata.org/pandas-docs/stable/user_guide/indexing.html#returning-a-view-versus-a-copy\n",
            "  This is separate from the ipykernel package so we can avoid doing imports until\n",
            "/usr/local/lib/python3.7/dist-packages/ipykernel_launcher.py:4: SettingWithCopyWarning: \n",
            "A value is trying to be set on a copy of a slice from a DataFrame.\n",
            "Try using .loc[row_indexer,col_indexer] = value instead\n",
            "\n",
            "See the caveats in the documentation: https://pandas.pydata.org/pandas-docs/stable/user_guide/indexing.html#returning-a-view-versus-a-copy\n",
            "  after removing the cwd from sys.path.\n",
            "/usr/local/lib/python3.7/dist-packages/ipykernel_launcher.py:5: SettingWithCopyWarning: \n",
            "A value is trying to be set on a copy of a slice from a DataFrame.\n",
            "Try using .loc[row_indexer,col_indexer] = value instead\n",
            "\n",
            "See the caveats in the documentation: https://pandas.pydata.org/pandas-docs/stable/user_guide/indexing.html#returning-a-view-versus-a-copy\n",
            "  \"\"\"\n",
            "/usr/local/lib/python3.7/dist-packages/ipykernel_launcher.py:7: SettingWithCopyWarning: \n",
            "A value is trying to be set on a copy of a slice from a DataFrame.\n",
            "Try using .loc[row_indexer,col_indexer] = value instead\n",
            "\n",
            "See the caveats in the documentation: https://pandas.pydata.org/pandas-docs/stable/user_guide/indexing.html#returning-a-view-versus-a-copy\n",
            "  import sys\n",
            "/usr/local/lib/python3.7/dist-packages/ipykernel_launcher.py:8: SettingWithCopyWarning: \n",
            "A value is trying to be set on a copy of a slice from a DataFrame.\n",
            "Try using .loc[row_indexer,col_indexer] = value instead\n",
            "\n",
            "See the caveats in the documentation: https://pandas.pydata.org/pandas-docs/stable/user_guide/indexing.html#returning-a-view-versus-a-copy\n",
            "  \n",
            "/usr/local/lib/python3.7/dist-packages/ipykernel_launcher.py:9: SettingWithCopyWarning: \n",
            "A value is trying to be set on a copy of a slice from a DataFrame.\n",
            "Try using .loc[row_indexer,col_indexer] = value instead\n",
            "\n",
            "See the caveats in the documentation: https://pandas.pydata.org/pandas-docs/stable/user_guide/indexing.html#returning-a-view-versus-a-copy\n",
            "  if __name__ == '__main__':\n",
            "/usr/local/lib/python3.7/dist-packages/ipykernel_launcher.py:10: SettingWithCopyWarning: \n",
            "A value is trying to be set on a copy of a slice from a DataFrame.\n",
            "Try using .loc[row_indexer,col_indexer] = value instead\n",
            "\n",
            "See the caveats in the documentation: https://pandas.pydata.org/pandas-docs/stable/user_guide/indexing.html#returning-a-view-versus-a-copy\n",
            "  # Remove the CWD from sys.path while we load stuff.\n",
            "/usr/local/lib/python3.7/dist-packages/ipykernel_launcher.py:11: SettingWithCopyWarning: \n",
            "A value is trying to be set on a copy of a slice from a DataFrame.\n",
            "Try using .loc[row_indexer,col_indexer] = value instead\n",
            "\n",
            "See the caveats in the documentation: https://pandas.pydata.org/pandas-docs/stable/user_guide/indexing.html#returning-a-view-versus-a-copy\n",
            "  # This is added back by InteractiveShellApp.init_path()\n",
            "/usr/local/lib/python3.7/dist-packages/ipykernel_launcher.py:14: SettingWithCopyWarning: \n",
            "A value is trying to be set on a copy of a slice from a DataFrame.\n",
            "Try using .loc[row_indexer,col_indexer] = value instead\n",
            "\n",
            "See the caveats in the documentation: https://pandas.pydata.org/pandas-docs/stable/user_guide/indexing.html#returning-a-view-versus-a-copy\n",
            "  \n",
            "/usr/local/lib/python3.7/dist-packages/ipykernel_launcher.py:15: SettingWithCopyWarning: \n",
            "A value is trying to be set on a copy of a slice from a DataFrame.\n",
            "Try using .loc[row_indexer,col_indexer] = value instead\n",
            "\n",
            "See the caveats in the documentation: https://pandas.pydata.org/pandas-docs/stable/user_guide/indexing.html#returning-a-view-versus-a-copy\n",
            "  from ipykernel import kernelapp as app\n",
            "/usr/local/lib/python3.7/dist-packages/ipykernel_launcher.py:16: SettingWithCopyWarning: \n",
            "A value is trying to be set on a copy of a slice from a DataFrame.\n",
            "Try using .loc[row_indexer,col_indexer] = value instead\n",
            "\n",
            "See the caveats in the documentation: https://pandas.pydata.org/pandas-docs/stable/user_guide/indexing.html#returning-a-view-versus-a-copy\n",
            "  app.launch_new_instance()\n",
            "/usr/local/lib/python3.7/dist-packages/ipykernel_launcher.py:18: SettingWithCopyWarning: \n",
            "A value is trying to be set on a copy of a slice from a DataFrame.\n",
            "Try using .loc[row_indexer,col_indexer] = value instead\n",
            "\n",
            "See the caveats in the documentation: https://pandas.pydata.org/pandas-docs/stable/user_guide/indexing.html#returning-a-view-versus-a-copy\n",
            "/usr/local/lib/python3.7/dist-packages/ipykernel_launcher.py:19: SettingWithCopyWarning: \n",
            "A value is trying to be set on a copy of a slice from a DataFrame.\n",
            "Try using .loc[row_indexer,col_indexer] = value instead\n",
            "\n",
            "See the caveats in the documentation: https://pandas.pydata.org/pandas-docs/stable/user_guide/indexing.html#returning-a-view-versus-a-copy\n",
            "/usr/local/lib/python3.7/dist-packages/ipykernel_launcher.py:21: SettingWithCopyWarning: \n",
            "A value is trying to be set on a copy of a slice from a DataFrame.\n",
            "Try using .loc[row_indexer,col_indexer] = value instead\n",
            "\n",
            "See the caveats in the documentation: https://pandas.pydata.org/pandas-docs/stable/user_guide/indexing.html#returning-a-view-versus-a-copy\n",
            "/usr/local/lib/python3.7/dist-packages/ipykernel_launcher.py:22: SettingWithCopyWarning: \n",
            "A value is trying to be set on a copy of a slice from a DataFrame.\n",
            "Try using .loc[row_indexer,col_indexer] = value instead\n",
            "\n",
            "See the caveats in the documentation: https://pandas.pydata.org/pandas-docs/stable/user_guide/indexing.html#returning-a-view-versus-a-copy\n",
            "/usr/local/lib/python3.7/dist-packages/ipykernel_launcher.py:24: SettingWithCopyWarning: \n",
            "A value is trying to be set on a copy of a slice from a DataFrame.\n",
            "Try using .loc[row_indexer,col_indexer] = value instead\n",
            "\n",
            "See the caveats in the documentation: https://pandas.pydata.org/pandas-docs/stable/user_guide/indexing.html#returning-a-view-versus-a-copy\n",
            "/usr/local/lib/python3.7/dist-packages/ipykernel_launcher.py:26: SettingWithCopyWarning: \n",
            "A value is trying to be set on a copy of a slice from a DataFrame.\n",
            "Try using .loc[row_indexer,col_indexer] = value instead\n",
            "\n",
            "See the caveats in the documentation: https://pandas.pydata.org/pandas-docs/stable/user_guide/indexing.html#returning-a-view-versus-a-copy\n"
          ],
          "name": "stderr"
        }
      ]
    },
    {
      "cell_type": "code",
      "metadata": {
        "id": "EfZqZ5T6GBGi"
      },
      "source": [
        "model = CatBoostClassifier(\n",
        "    text_features=text_features,\n",
        "    verbose=50,\n",
        "    loss_function='MultiClass',\n",
        "    eval_metric='TotalF1',\n",
        "    task_type=\"GPU\",\n",
        "    iterations=1000,\n",
        "    learning_rate=0.2,      \n",
        "#     reg_lambda=0.0001,\n",
        "    \n",
        "    text_processing = {\n",
        "        \"tokenizers\" : [{\n",
        "            \"tokenizer_id\" : \"Space\",\n",
        "            \"separator_type\" : \"ByDelimiter\",\n",
        "            \"delimiter\" : \" \"\n",
        "        }],\n",
        "\n",
        "        \"dictionaries\" : [{\n",
        "            \"dictionary_id\" : \"BiGram\",\n",
        "            \"token_level_type\": \"Letter\",\n",
        "            \"max_dictionary_size\" : \"150000\",\n",
        "            \"occurrence_lower_bound\" : \"1\",\n",
        "            \"gram_order\" : \"2\"\n",
        "        },{\n",
        "            \"dictionary_id\" : \"Trigram\",\n",
        "            \"max_dictionary_size\" : \"150000\",\n",
        "            \"token_level_type\": \"Letter\",\n",
        "            \"occurrence_lower_bound\" : \"1\",\n",
        "            \"gram_order\" : \"3\"\n",
        "        },{\n",
        "            \"dictionary_id\" : \"Fourgram\",\n",
        "            \"max_dictionary_size\" : \"150000\",\n",
        "            \"token_level_type\": \"Letter\",\n",
        "            \"occurrence_lower_bound\" : \"1\",\n",
        "            \"gram_order\" : \"4\"\n",
        "        },{\n",
        "            \"dictionary_id\" : \"Fivegram\",\n",
        "            \"max_dictionary_size\" : \"150000\",\n",
        "            \"token_level_type\": \"Letter\",\n",
        "            \"occurrence_lower_bound\" : \"1\",\n",
        "            \"gram_order\" : \"5\"\n",
        "        },{\n",
        "            \"dictionary_id\" : \"Sixgram\",\n",
        "            \"max_dictionary_size\" : \"150000\",\n",
        "            \"token_level_type\": \"Letter\",\n",
        "            \"occurrence_lower_bound\" : \"1\",\n",
        "            \"gram_order\" : \"6\"\n",
        "        }\n",
        "        ],\n",
        "\n",
        "        \"feature_processing\" : {\n",
        "            \"default\" : [\n",
        "                    {\n",
        "                    \"dictionaries_names\" : [\"BiGram\", \"Trigram\", \"Fourgram\", \"Fivegram\", \"Sixgram\"],\n",
        "                    \"feature_calcers\" : [\"BoW\"],\n",
        "                    \"tokenizers_names\" : [\"Space\"]\n",
        "                },\n",
        "                    {\n",
        "                \"dictionaries_names\" : [\"BiGram\", \"Trigram\", \"Fourgram\", \"Fivegram\", \"Sixgram\"],\n",
        "                \"feature_calcers\" : [\"NaiveBayes\"],\n",
        "                \"tokenizers_names\" : [\"Space\"]\n",
        "            },{\n",
        "                \"dictionaries_names\" : [ \"BiGram\", \"Trigram\", \"Fourgram\", \"Fivegram\", \"Sixgram\"],\n",
        "                \"feature_calcers\" : [\"BM25\"],\n",
        "                \"tokenizers_names\" : [\"Space\"]\n",
        "            },\n",
        "            ],\n",
        "        }\n",
        "    }\n",
        ")\n",
        "\n"
      ],
      "execution_count": 53,
      "outputs": []
    },
    {
      "cell_type": "code",
      "metadata": {
        "id": "4LO49LDDHQpn"
      },
      "source": [
        "feature_names = [\n",
        "                 'item_name',\n",
        "                 'first',\n",
        "                 'last', 'is_preservativ', 'is_paper', 'is_otkritka', 'is_born', 'is_a4', 'is_ubiley',                                         \n",
        "                 'is_auto', 'is_list', 'is_kanc', 'is_dnevnik',\n",
        "                'first_word_len', 'last_word_len',\n",
        "                 'second_last_word', 'second_first_word',\n",
        "                 'last_first_word',\n",
        "                ] \n"
      ],
      "execution_count": 55,
      "outputs": []
    },
    {
      "cell_type": "code",
      "metadata": {
        "colab": {
          "base_uri": "https://localhost:8080/",
          "height": 825
        },
        "id": "gpbKfj4LHgbL",
        "outputId": "cb7f6517-c10f-4161-aa84-b9f0c05e3d65"
      },
      "source": [
        "valid[feature_names]"
      ],
      "execution_count": 56,
      "outputs": [
        {
          "output_type": "execute_result",
          "data": {
            "text/html": [
              "<div>\n",
              "<style scoped>\n",
              "    .dataframe tbody tr th:only-of-type {\n",
              "        vertical-align: middle;\n",
              "    }\n",
              "\n",
              "    .dataframe tbody tr th {\n",
              "        vertical-align: top;\n",
              "    }\n",
              "\n",
              "    .dataframe thead th {\n",
              "        text-align: right;\n",
              "    }\n",
              "</style>\n",
              "<table border=\"1\" class=\"dataframe\">\n",
              "  <thead>\n",
              "    <tr style=\"text-align: right;\">\n",
              "      <th></th>\n",
              "      <th>item_name</th>\n",
              "      <th>first</th>\n",
              "      <th>last</th>\n",
              "      <th>is_preservativ</th>\n",
              "      <th>is_paper</th>\n",
              "      <th>is_otkritka</th>\n",
              "      <th>is_born</th>\n",
              "      <th>is_a4</th>\n",
              "      <th>is_ubiley</th>\n",
              "      <th>is_auto</th>\n",
              "      <th>is_list</th>\n",
              "      <th>is_kanc</th>\n",
              "      <th>is_dnevnik</th>\n",
              "      <th>first_word_len</th>\n",
              "      <th>last_word_len</th>\n",
              "      <th>second_last_word</th>\n",
              "      <th>second_first_word</th>\n",
              "      <th>last_first_word</th>\n",
              "    </tr>\n",
              "  </thead>\n",
              "  <tbody>\n",
              "    <tr>\n",
              "      <th>1417</th>\n",
              "      <td>оладьи 1 шт</td>\n",
              "      <td>оладьи</td>\n",
              "      <td>шт</td>\n",
              "      <td>0</td>\n",
              "      <td>0</td>\n",
              "      <td>0</td>\n",
              "      <td>0</td>\n",
              "      <td>0</td>\n",
              "      <td>0</td>\n",
              "      <td>0</td>\n",
              "      <td>0</td>\n",
              "      <td>0</td>\n",
              "      <td>0</td>\n",
              "      <td>6</td>\n",
              "      <td>2</td>\n",
              "      <td>1</td>\n",
              "      <td>1</td>\n",
              "      <td>штоладьи</td>\n",
              "    </tr>\n",
              "    <tr>\n",
              "      <th>75615</th>\n",
              "      <td>масло миладора подсолнечное 0 9 л</td>\n",
              "      <td>масло</td>\n",
              "      <td>л</td>\n",
              "      <td>0</td>\n",
              "      <td>0</td>\n",
              "      <td>0</td>\n",
              "      <td>0</td>\n",
              "      <td>0</td>\n",
              "      <td>0</td>\n",
              "      <td>0</td>\n",
              "      <td>0</td>\n",
              "      <td>0</td>\n",
              "      <td>0</td>\n",
              "      <td>5</td>\n",
              "      <td>1</td>\n",
              "      <td>9</td>\n",
              "      <td>миладора</td>\n",
              "      <td>лмасло</td>\n",
              "    </tr>\n",
              "    <tr>\n",
              "      <th>30143</th>\n",
              "      <td>ggtt 01_1-p 0 104 футболка для девочек girl ' ...</td>\n",
              "      <td>ggtt</td>\n",
              "      <td>104</td>\n",
              "      <td>0</td>\n",
              "      <td>0</td>\n",
              "      <td>0</td>\n",
              "      <td>0</td>\n",
              "      <td>0</td>\n",
              "      <td>0</td>\n",
              "      <td>0</td>\n",
              "      <td>0</td>\n",
              "      <td>0</td>\n",
              "      <td>0</td>\n",
              "      <td>4</td>\n",
              "      <td>3</td>\n",
              "      <td>р</td>\n",
              "      <td>01_1-p</td>\n",
              "      <td>104ggtt</td>\n",
              "    </tr>\n",
              "    <tr>\n",
              "      <th>146933</th>\n",
              "      <td>сигареты eve premium purple - мрц- 140 00 р</td>\n",
              "      <td>сигареты</td>\n",
              "      <td>р</td>\n",
              "      <td>0</td>\n",
              "      <td>0</td>\n",
              "      <td>0</td>\n",
              "      <td>0</td>\n",
              "      <td>0</td>\n",
              "      <td>0</td>\n",
              "      <td>0</td>\n",
              "      <td>0</td>\n",
              "      <td>0</td>\n",
              "      <td>0</td>\n",
              "      <td>8</td>\n",
              "      <td>1</td>\n",
              "      <td>00</td>\n",
              "      <td>eve</td>\n",
              "      <td>рсигареты</td>\n",
              "    </tr>\n",
              "    <tr>\n",
              "      <th>139193</th>\n",
              "      <td>мешок п / п зеленый 55 * 95 см</td>\n",
              "      <td>мешок</td>\n",
              "      <td>см</td>\n",
              "      <td>0</td>\n",
              "      <td>0</td>\n",
              "      <td>0</td>\n",
              "      <td>0</td>\n",
              "      <td>0</td>\n",
              "      <td>0</td>\n",
              "      <td>0</td>\n",
              "      <td>0</td>\n",
              "      <td>0</td>\n",
              "      <td>0</td>\n",
              "      <td>5</td>\n",
              "      <td>2</td>\n",
              "      <td>95</td>\n",
              "      <td>п</td>\n",
              "      <td>сммешок</td>\n",
              "    </tr>\n",
              "    <tr>\n",
              "      <th>...</th>\n",
              "      <td>...</td>\n",
              "      <td>...</td>\n",
              "      <td>...</td>\n",
              "      <td>...</td>\n",
              "      <td>...</td>\n",
              "      <td>...</td>\n",
              "      <td>...</td>\n",
              "      <td>...</td>\n",
              "      <td>...</td>\n",
              "      <td>...</td>\n",
              "      <td>...</td>\n",
              "      <td>...</td>\n",
              "      <td>...</td>\n",
              "      <td>...</td>\n",
              "      <td>...</td>\n",
              "      <td>...</td>\n",
              "      <td>...</td>\n",
              "      <td>...</td>\n",
              "    </tr>\n",
              "    <tr>\n",
              "      <th>34915</th>\n",
              "      <td>средство sally hansen для укре</td>\n",
              "      <td>средство</td>\n",
              "      <td>укре</td>\n",
              "      <td>0</td>\n",
              "      <td>0</td>\n",
              "      <td>0</td>\n",
              "      <td>0</td>\n",
              "      <td>0</td>\n",
              "      <td>0</td>\n",
              "      <td>0</td>\n",
              "      <td>0</td>\n",
              "      <td>0</td>\n",
              "      <td>0</td>\n",
              "      <td>8</td>\n",
              "      <td>4</td>\n",
              "      <td>для</td>\n",
              "      <td>sally</td>\n",
              "      <td>укресредство</td>\n",
              "    </tr>\n",
              "    <tr>\n",
              "      <th>128015</th>\n",
              "      <td>сосиски дмитрогорские в п / а газ ( 1 кг ) дг</td>\n",
              "      <td>сосиски</td>\n",
              "      <td>дг</td>\n",
              "      <td>0</td>\n",
              "      <td>0</td>\n",
              "      <td>0</td>\n",
              "      <td>0</td>\n",
              "      <td>0</td>\n",
              "      <td>0</td>\n",
              "      <td>0</td>\n",
              "      <td>0</td>\n",
              "      <td>0</td>\n",
              "      <td>0</td>\n",
              "      <td>7</td>\n",
              "      <td>2</td>\n",
              "      <td>)</td>\n",
              "      <td>дмитрогорские</td>\n",
              "      <td>дгсосиски</td>\n",
              "    </tr>\n",
              "    <tr>\n",
              "      <th>148667</th>\n",
              "      <td>минтай жареный 100 гр статус</td>\n",
              "      <td>минтай</td>\n",
              "      <td>статус</td>\n",
              "      <td>0</td>\n",
              "      <td>0</td>\n",
              "      <td>0</td>\n",
              "      <td>0</td>\n",
              "      <td>0</td>\n",
              "      <td>0</td>\n",
              "      <td>0</td>\n",
              "      <td>0</td>\n",
              "      <td>0</td>\n",
              "      <td>0</td>\n",
              "      <td>6</td>\n",
              "      <td>6</td>\n",
              "      <td>гр</td>\n",
              "      <td>жареный</td>\n",
              "      <td>статусминтай</td>\n",
              "    </tr>\n",
              "    <tr>\n",
              "      <th>30054</th>\n",
              "      <td>1/1 салфетки влажные детские памперино n 15 ал...</td>\n",
              "      <td>1/1</td>\n",
              "      <td>чай</td>\n",
              "      <td>0</td>\n",
              "      <td>0</td>\n",
              "      <td>0</td>\n",
              "      <td>0</td>\n",
              "      <td>0</td>\n",
              "      <td>0</td>\n",
              "      <td>0</td>\n",
              "      <td>0</td>\n",
              "      <td>0</td>\n",
              "      <td>0</td>\n",
              "      <td>3</td>\n",
              "      <td>3</td>\n",
              "      <td>вера-зеленый</td>\n",
              "      <td>салфетки</td>\n",
              "      <td>чай1/1</td>\n",
              "    </tr>\n",
              "    <tr>\n",
              "      <th>56327</th>\n",
              "      <td>украшение нг птичка 16 * 7 см на клипсе</td>\n",
              "      <td>украшение</td>\n",
              "      <td>клипсе</td>\n",
              "      <td>0</td>\n",
              "      <td>0</td>\n",
              "      <td>0</td>\n",
              "      <td>0</td>\n",
              "      <td>0</td>\n",
              "      <td>0</td>\n",
              "      <td>0</td>\n",
              "      <td>0</td>\n",
              "      <td>0</td>\n",
              "      <td>0</td>\n",
              "      <td>9</td>\n",
              "      <td>6</td>\n",
              "      <td>на</td>\n",
              "      <td>нг</td>\n",
              "      <td>клипсеукрашение</td>\n",
              "    </tr>\n",
              "  </tbody>\n",
              "</table>\n",
              "<p>15540 rows × 18 columns</p>\n",
              "</div>"
            ],
            "text/plain": [
              "                                                item_name  ...  last_first_word\n",
              "1417                                          оладьи 1 шт  ...         штоладьи\n",
              "75615                   масло миладора подсолнечное 0 9 л  ...           лмасло\n",
              "30143   ggtt 01_1-p 0 104 футболка для девочек girl ' ...  ...          104ggtt\n",
              "146933        сигареты eve premium purple - мрц- 140 00 р  ...        рсигареты\n",
              "139193                     мешок п / п зеленый 55 * 95 см  ...          сммешок\n",
              "...                                                   ...  ...              ...\n",
              "34915                      средство sally hansen для укре  ...     укресредство\n",
              "128015      сосиски дмитрогорские в п / а газ ( 1 кг ) дг  ...        дгсосиски\n",
              "148667                       минтай жареный 100 гр статус  ...     статусминтай\n",
              "30054   1/1 салфетки влажные детские памперино n 15 ал...  ...           чай1/1\n",
              "56327             украшение нг птичка 16 * 7 см на клипсе  ...  клипсеукрашение\n",
              "\n",
              "[15540 rows x 18 columns]"
            ]
          },
          "metadata": {
            "tags": []
          },
          "execution_count": 56
        }
      ]
    },
    {
      "cell_type": "code",
      "metadata": {
        "colab": {
          "base_uri": "https://localhost:8080/",
          "height": 657
        },
        "id": "h-bfOGxnJLun",
        "outputId": "881c9ccc-8a9e-4cc4-ca1d-ec07300f4666"
      },
      "source": [
        "train[feature_names]"
      ],
      "execution_count": 57,
      "outputs": [
        {
          "output_type": "execute_result",
          "data": {
            "text/html": [
              "<div>\n",
              "<style scoped>\n",
              "    .dataframe tbody tr th:only-of-type {\n",
              "        vertical-align: middle;\n",
              "    }\n",
              "\n",
              "    .dataframe tbody tr th {\n",
              "        vertical-align: top;\n",
              "    }\n",
              "\n",
              "    .dataframe thead th {\n",
              "        text-align: right;\n",
              "    }\n",
              "</style>\n",
              "<table border=\"1\" class=\"dataframe\">\n",
              "  <thead>\n",
              "    <tr style=\"text-align: right;\">\n",
              "      <th></th>\n",
              "      <th>item_name</th>\n",
              "      <th>first</th>\n",
              "      <th>last</th>\n",
              "      <th>is_preservativ</th>\n",
              "      <th>is_paper</th>\n",
              "      <th>is_otkritka</th>\n",
              "      <th>is_born</th>\n",
              "      <th>is_a4</th>\n",
              "      <th>is_ubiley</th>\n",
              "      <th>is_auto</th>\n",
              "      <th>is_list</th>\n",
              "      <th>is_kanc</th>\n",
              "      <th>is_dnevnik</th>\n",
              "      <th>first_word_len</th>\n",
              "      <th>last_word_len</th>\n",
              "      <th>second_last_word</th>\n",
              "      <th>second_first_word</th>\n",
              "      <th>last_first_word</th>\n",
              "    </tr>\n",
              "  </thead>\n",
              "  <tbody>\n",
              "    <tr>\n",
              "      <th>16523</th>\n",
              "      <td>хек жареный кг</td>\n",
              "      <td>хек</td>\n",
              "      <td>кг</td>\n",
              "      <td>0</td>\n",
              "      <td>0</td>\n",
              "      <td>0</td>\n",
              "      <td>0</td>\n",
              "      <td>0</td>\n",
              "      <td>0</td>\n",
              "      <td>0</td>\n",
              "      <td>0</td>\n",
              "      <td>0</td>\n",
              "      <td>0</td>\n",
              "      <td>3</td>\n",
              "      <td>2</td>\n",
              "      <td>жареный</td>\n",
              "      <td>жареный</td>\n",
              "      <td>кгхек</td>\n",
              "    </tr>\n",
              "    <tr>\n",
              "      <th>89237</th>\n",
              "      <td>салат цезарь с курой б / л</td>\n",
              "      <td>салат</td>\n",
              "      <td>л</td>\n",
              "      <td>0</td>\n",
              "      <td>0</td>\n",
              "      <td>0</td>\n",
              "      <td>0</td>\n",
              "      <td>0</td>\n",
              "      <td>0</td>\n",
              "      <td>0</td>\n",
              "      <td>0</td>\n",
              "      <td>0</td>\n",
              "      <td>0</td>\n",
              "      <td>5</td>\n",
              "      <td>1</td>\n",
              "      <td>/</td>\n",
              "      <td>цезарь</td>\n",
              "      <td>лсалат</td>\n",
              "    </tr>\n",
              "    <tr>\n",
              "      <th>39712</th>\n",
              "      <td>напиток б / а фанта 330 мл ж / б /</td>\n",
              "      <td>напиток</td>\n",
              "      <td>/</td>\n",
              "      <td>0</td>\n",
              "      <td>0</td>\n",
              "      <td>0</td>\n",
              "      <td>0</td>\n",
              "      <td>0</td>\n",
              "      <td>0</td>\n",
              "      <td>0</td>\n",
              "      <td>0</td>\n",
              "      <td>0</td>\n",
              "      <td>0</td>\n",
              "      <td>7</td>\n",
              "      <td>1</td>\n",
              "      <td>б</td>\n",
              "      <td>б</td>\n",
              "      <td>/напиток</td>\n",
              "    </tr>\n",
              "    <tr>\n",
              "      <th>73644</th>\n",
              "      <td>джинсы ( s 011 34 59 d 1 )</td>\n",
              "      <td>джинсы</td>\n",
              "      <td>)</td>\n",
              "      <td>0</td>\n",
              "      <td>0</td>\n",
              "      <td>0</td>\n",
              "      <td>0</td>\n",
              "      <td>0</td>\n",
              "      <td>0</td>\n",
              "      <td>0</td>\n",
              "      <td>0</td>\n",
              "      <td>0</td>\n",
              "      <td>0</td>\n",
              "      <td>6</td>\n",
              "      <td>1</td>\n",
              "      <td>1</td>\n",
              "      <td>(</td>\n",
              "      <td>)джинсы</td>\n",
              "    </tr>\n",
              "    <tr>\n",
              "      <th>131922</th>\n",
              "      <td>джинсы ( d 013 34 59 d 0 )</td>\n",
              "      <td>джинсы</td>\n",
              "      <td>)</td>\n",
              "      <td>0</td>\n",
              "      <td>0</td>\n",
              "      <td>0</td>\n",
              "      <td>0</td>\n",
              "      <td>0</td>\n",
              "      <td>0</td>\n",
              "      <td>0</td>\n",
              "      <td>0</td>\n",
              "      <td>0</td>\n",
              "      <td>0</td>\n",
              "      <td>6</td>\n",
              "      <td>1</td>\n",
              "      <td>0</td>\n",
              "      <td>(</td>\n",
              "      <td>)джинсы</td>\n",
              "    </tr>\n",
              "    <tr>\n",
              "      <th>...</th>\n",
              "      <td>...</td>\n",
              "      <td>...</td>\n",
              "      <td>...</td>\n",
              "      <td>...</td>\n",
              "      <td>...</td>\n",
              "      <td>...</td>\n",
              "      <td>...</td>\n",
              "      <td>...</td>\n",
              "      <td>...</td>\n",
              "      <td>...</td>\n",
              "      <td>...</td>\n",
              "      <td>...</td>\n",
              "      <td>...</td>\n",
              "      <td>...</td>\n",
              "      <td>...</td>\n",
              "      <td>...</td>\n",
              "      <td>...</td>\n",
              "      <td>...</td>\n",
              "    </tr>\n",
              "    <tr>\n",
              "      <th>99321</th>\n",
              "      <td>кофе 3 в 1 мягкий нескафе 0 16 гр</td>\n",
              "      <td>кофе</td>\n",
              "      <td>гр</td>\n",
              "      <td>0</td>\n",
              "      <td>0</td>\n",
              "      <td>0</td>\n",
              "      <td>0</td>\n",
              "      <td>0</td>\n",
              "      <td>0</td>\n",
              "      <td>0</td>\n",
              "      <td>0</td>\n",
              "      <td>0</td>\n",
              "      <td>0</td>\n",
              "      <td>4</td>\n",
              "      <td>2</td>\n",
              "      <td>16</td>\n",
              "      <td>3</td>\n",
              "      <td>гркофе</td>\n",
              "    </tr>\n",
              "    <tr>\n",
              "      <th>63090</th>\n",
              "      <td>батон к чаю 300 гр хлебокомбинат</td>\n",
              "      <td>батон</td>\n",
              "      <td>хлебокомбинат</td>\n",
              "      <td>0</td>\n",
              "      <td>0</td>\n",
              "      <td>0</td>\n",
              "      <td>0</td>\n",
              "      <td>0</td>\n",
              "      <td>0</td>\n",
              "      <td>0</td>\n",
              "      <td>0</td>\n",
              "      <td>0</td>\n",
              "      <td>0</td>\n",
              "      <td>5</td>\n",
              "      <td>13</td>\n",
              "      <td>гр</td>\n",
              "      <td>к</td>\n",
              "      <td>хлебокомбинатбатон</td>\n",
              "    </tr>\n",
              "    <tr>\n",
              "      <th>15083</th>\n",
              "      <td>биг мак бекон бкомбо</td>\n",
              "      <td>биг</td>\n",
              "      <td>бкомбо</td>\n",
              "      <td>0</td>\n",
              "      <td>0</td>\n",
              "      <td>0</td>\n",
              "      <td>0</td>\n",
              "      <td>0</td>\n",
              "      <td>0</td>\n",
              "      <td>0</td>\n",
              "      <td>0</td>\n",
              "      <td>0</td>\n",
              "      <td>0</td>\n",
              "      <td>3</td>\n",
              "      <td>6</td>\n",
              "      <td>бекон</td>\n",
              "      <td>мак</td>\n",
              "      <td>бкомбобиг</td>\n",
              "    </tr>\n",
              "    <tr>\n",
              "      <th>77230</th>\n",
              "      <td>ом тальолини алио-олио с креветками</td>\n",
              "      <td>ом</td>\n",
              "      <td>креветками</td>\n",
              "      <td>0</td>\n",
              "      <td>0</td>\n",
              "      <td>0</td>\n",
              "      <td>0</td>\n",
              "      <td>0</td>\n",
              "      <td>0</td>\n",
              "      <td>0</td>\n",
              "      <td>0</td>\n",
              "      <td>0</td>\n",
              "      <td>0</td>\n",
              "      <td>2</td>\n",
              "      <td>10</td>\n",
              "      <td>с</td>\n",
              "      <td>тальолини</td>\n",
              "      <td>креветкамиом</td>\n",
              "    </tr>\n",
              "    <tr>\n",
              "      <th>46338</th>\n",
              "      <td>ободок декориров рог</td>\n",
              "      <td>ободок</td>\n",
              "      <td>рог</td>\n",
              "      <td>0</td>\n",
              "      <td>0</td>\n",
              "      <td>0</td>\n",
              "      <td>0</td>\n",
              "      <td>0</td>\n",
              "      <td>0</td>\n",
              "      <td>0</td>\n",
              "      <td>0</td>\n",
              "      <td>0</td>\n",
              "      <td>0</td>\n",
              "      <td>6</td>\n",
              "      <td>3</td>\n",
              "      <td>декориров</td>\n",
              "      <td>декориров</td>\n",
              "      <td>рогободок</td>\n",
              "    </tr>\n",
              "  </tbody>\n",
              "</table>\n",
              "<p>139854 rows × 18 columns</p>\n",
              "</div>"
            ],
            "text/plain": [
              "                                  item_name  ...     last_first_word\n",
              "16523                        хек жареный кг  ...               кгхек\n",
              "89237            салат цезарь с курой б / л  ...              лсалат\n",
              "39712    напиток б / а фанта 330 мл ж / б /  ...            /напиток\n",
              "73644            джинсы ( s 011 34 59 d 1 )  ...             )джинсы\n",
              "131922           джинсы ( d 013 34 59 d 0 )  ...             )джинсы\n",
              "...                                     ...  ...                 ...\n",
              "99321     кофе 3 в 1 мягкий нескафе 0 16 гр  ...              гркофе\n",
              "63090      батон к чаю 300 гр хлебокомбинат  ...  хлебокомбинатбатон\n",
              "15083                  биг мак бекон бкомбо  ...           бкомбобиг\n",
              "77230   ом тальолини алио-олио с креветками  ...        креветкамиом\n",
              "46338                  ободок декориров рог  ...           рогободок\n",
              "\n",
              "[139854 rows x 18 columns]"
            ]
          },
          "metadata": {
            "tags": []
          },
          "execution_count": 57
        }
      ]
    },
    {
      "cell_type": "code",
      "metadata": {
        "colab": {
          "base_uri": "https://localhost:8080/"
        },
        "id": "kEiBu8fhGQS_",
        "outputId": "2f4a8322-010f-4a96-81f6-793836464ad4"
      },
      "source": [
        "model.fit(\n",
        "    train[text_features], train[target],\n",
        "    eval_set=(valid[text_features], valid[target]),\n",
        ")"
      ],
      "execution_count": 60,
      "outputs": [
        {
          "output_type": "stream",
          "text": [
            "0:\tlearn: 0.5038827\ttest: 0.5092648\tbest: 0.5092648 (0)\ttotal: 1.29s\tremaining: 21m 28s\n",
            "50:\tlearn: 0.8795186\ttest: 0.8967109\tbest: 0.8967109 (50)\ttotal: 1m 5s\tremaining: 20m 22s\n",
            "100:\tlearn: 0.8908739\ttest: 0.9055142\tbest: 0.9055142 (100)\ttotal: 2m 11s\tremaining: 19m 32s\n",
            "150:\tlearn: 0.9005029\ttest: 0.9108063\tbest: 0.9108610 (147)\ttotal: 3m 18s\tremaining: 18m 38s\n",
            "200:\tlearn: 0.9053714\ttest: 0.9134086\tbest: 0.9134086 (200)\ttotal: 4m 24s\tremaining: 17m 32s\n",
            "250:\tlearn: 0.9114259\ttest: 0.9156275\tbest: 0.9156275 (250)\ttotal: 5m 31s\tremaining: 16m 29s\n",
            "300:\tlearn: 0.9159170\ttest: 0.9181474\tbest: 0.9181474 (300)\ttotal: 6m 37s\tremaining: 15m 22s\n",
            "350:\tlearn: 0.9205488\ttest: 0.9187124\tbest: 0.9191882 (337)\ttotal: 7m 40s\tremaining: 14m 12s\n",
            "400:\tlearn: 0.9241499\ttest: 0.9198181\tbest: 0.9198727 (399)\ttotal: 8m 43s\tremaining: 13m 1s\n",
            "450:\tlearn: 0.9275885\ttest: 0.9209105\tbest: 0.9209105 (450)\ttotal: 9m 45s\tremaining: 11m 53s\n",
            "500:\tlearn: 0.9310363\ttest: 0.9213918\tbest: 0.9216684 (465)\ttotal: 10m 50s\tremaining: 10m 47s\n",
            "550:\tlearn: 0.9337078\ttest: 0.9217074\tbest: 0.9218911 (528)\ttotal: 11m 53s\tremaining: 9m 41s\n",
            "600:\tlearn: 0.9367634\ttest: 0.9221079\tbest: 0.9223423 (558)\ttotal: 12m 54s\tremaining: 8m 34s\n",
            "650:\tlearn: 0.9393511\ttest: 0.9225481\tbest: 0.9227592 (640)\ttotal: 13m 56s\tremaining: 7m 28s\n",
            "700:\tlearn: 0.9416805\ttest: 0.9229337\tbest: 0.9229965 (691)\ttotal: 14m 58s\tremaining: 6m 23s\n",
            "750:\tlearn: 0.9440575\ttest: 0.9238045\tbest: 0.9238045 (750)\ttotal: 15m 58s\tremaining: 5m 17s\n",
            "800:\tlearn: 0.9465143\ttest: 0.9237666\tbest: 0.9238045 (750)\ttotal: 17m\tremaining: 4m 13s\n",
            "850:\tlearn: 0.9488981\ttest: 0.9243172\tbest: 0.9243862 (846)\ttotal: 18m 1s\tremaining: 3m 9s\n",
            "900:\tlearn: 0.9507012\ttest: 0.9248047\tbest: 0.9249490 (899)\ttotal: 19m 2s\tremaining: 2m 5s\n",
            "950:\tlearn: 0.9523327\ttest: 0.9251640\tbest: 0.9253983 (945)\ttotal: 20m 3s\tremaining: 1m 1s\n",
            "999:\tlearn: 0.9542408\ttest: 0.9252070\tbest: 0.9254669 (953)\ttotal: 21m 3s\tremaining: 0us\n",
            "bestTest = 0.9254668649\n",
            "bestIteration = 953\n",
            "Shrink model to first 954 iterations.\n"
          ],
          "name": "stdout"
        },
        {
          "output_type": "execute_result",
          "data": {
            "text/plain": [
              "<catboost.core.CatBoostClassifier at 0x7f897ee7b810>"
            ]
          },
          "metadata": {
            "tags": []
          },
          "execution_count": 60
        }
      ]
    },
    {
      "cell_type": "markdown",
      "metadata": {
        "id": "P7NeKkklMzxA"
      },
      "source": [
        "# Расчет метрик"
      ]
    },
    {
      "cell_type": "code",
      "metadata": {
        "colab": {
          "base_uri": "https://localhost:8080/"
        },
        "id": "uyD6F6OmMueY",
        "outputId": "8250a6ec-1143-4672-b13e-df0c672c8f57"
      },
      "source": [
        "print(f'f1_score_test: {f1_score(valid[target], model.predict(valid[text_features]), average=\"weighted\")}')"
      ],
      "execution_count": 63,
      "outputs": [
        {
          "output_type": "stream",
          "text": [
            "f1_score_test: 0.9254668649296225\n"
          ],
          "name": "stdout"
        }
      ]
    },
    {
      "cell_type": "code",
      "metadata": {
        "colab": {
          "base_uri": "https://localhost:8080/"
        },
        "id": "kt0BZKxkRikp",
        "outputId": "f09761d1-1d06-4ea2-9a9d-daa114c64ac4"
      },
      "source": [
        "print(classification_report(valid[target], model.predict(valid[text_features])))"
      ],
      "execution_count": 75,
      "outputs": [
        {
          "output_type": "stream",
          "text": [
            "              precision    recall  f1-score   support\n",
            "\n",
            "           0       0.98      0.98      0.98      1025\n",
            "           1       1.00      0.93      0.96        14\n",
            "           2       1.00      1.00      1.00       254\n",
            "           3       1.00      0.94      0.97        18\n",
            "           4       0.94      0.87      0.91        39\n",
            "           6       1.00      0.14      0.25         7\n",
            "           7       0.96      0.96      0.96        25\n",
            "           9       1.00      0.91      0.95        11\n",
            "          11       0.50      0.40      0.44         5\n",
            "          12       0.88      0.95      0.91        38\n",
            "          13       0.86      1.00      0.92        12\n",
            "          19       1.00      0.56      0.71         9\n",
            "          20       1.00      0.67      0.80        12\n",
            "          24       0.86      0.50      0.63        12\n",
            "          26       0.00      0.00      0.00         2\n",
            "          27       1.00      0.92      0.96        12\n",
            "          29       0.98      0.95      0.96        55\n",
            "          30       0.79      0.90      0.84        89\n",
            "          31       0.00      0.00      0.00         4\n",
            "          35       1.00      0.33      0.50         3\n",
            "          36       0.92      0.73      0.81        45\n",
            "          37       0.72      0.62      0.67        21\n",
            "          38       0.98      0.99      0.99      1279\n",
            "          39       1.00      0.57      0.73         7\n",
            "          40       0.92      0.96      0.94       160\n",
            "          41       0.75      0.30      0.43        10\n",
            "          42       0.82      0.53      0.64        17\n",
            "          43       0.93      0.91      0.92        81\n",
            "          45       0.88      0.95      0.91        93\n",
            "          46       0.00      0.00      0.00         2\n",
            "          49       0.88      0.87      0.87        92\n",
            "          50       0.85      0.87      0.86        47\n",
            "          51       0.81      0.82      0.81        66\n",
            "          52       0.89      0.86      0.88        58\n",
            "          53       0.99      0.99      0.99        94\n",
            "          54       0.96      0.95      0.96        57\n",
            "          55       1.00      0.95      0.98        44\n",
            "          56       1.00      0.40      0.57         5\n",
            "          57       0.96      0.99      0.98       131\n",
            "          58       1.00      1.00      1.00        47\n",
            "          60       0.98      0.96      0.97       108\n",
            "          61       0.96      0.96      0.96       536\n",
            "          62       0.67      0.80      0.73        20\n",
            "          66       0.97      0.95      0.96        81\n",
            "          67       0.89      0.87      0.88        55\n",
            "          68       0.86      0.82      0.84        39\n",
            "          69       0.86      0.80      0.83        60\n",
            "          70       0.90      0.89      0.89       118\n",
            "          71       0.88      0.89      0.88      1251\n",
            "          72       0.87      0.87      0.87        98\n",
            "          73       0.91      0.84      0.87       319\n",
            "          74       0.97      0.98      0.97       487\n",
            "          75       0.88      0.88      0.88       218\n",
            "          76       0.94      0.84      0.89       165\n",
            "          77       0.90      0.89      0.90       284\n",
            "          78       0.97      0.96      0.96       823\n",
            "          79       0.82      0.82      0.82       148\n",
            "          80       0.88      0.92      0.90       357\n",
            "          81       0.95      0.90      0.92       307\n",
            "          82       0.83      0.92      0.87       113\n",
            "          83       0.96      0.97      0.96      1096\n",
            "          84       0.95      0.97      0.96      2818\n",
            "          85       0.91      0.94      0.92       236\n",
            "          90       0.00      0.00      0.00         5\n",
            "          92       0.82      0.78      0.80        23\n",
            "          96       1.00      0.40      0.57         5\n",
            "          97       0.00      0.00      0.00         1\n",
            "         100       0.00      0.00      0.00         1\n",
            "         101       0.00      0.00      0.00         2\n",
            "         102       0.00      0.00      0.00         2\n",
            "         103       0.79      0.73      0.76        15\n",
            "         105       0.81      0.95      0.88        37\n",
            "         106       0.50      0.20      0.29         5\n",
            "         107       0.82      0.87      0.85        76\n",
            "         108       0.70      0.70      0.70        10\n",
            "         109       0.94      0.95      0.94       172\n",
            "         111       0.60      0.33      0.43         9\n",
            "         114       0.89      0.85      0.87       140\n",
            "         115       0.85      0.82      0.83        49\n",
            "         117       0.88      0.86      0.87       115\n",
            "         118       0.74      0.78      0.76        72\n",
            "         120       0.81      0.81      0.81        91\n",
            "         128       1.00      0.82      0.90        28\n",
            "         130       0.89      0.91      0.90       294\n",
            "         133       0.89      0.92      0.91        52\n",
            "         138       0.62      0.45      0.53        11\n",
            "         139       0.78      0.78      0.78       107\n",
            "         140       0.77      0.75      0.76        68\n",
            "         145       0.97      0.97      0.97       176\n",
            "         150       0.83      0.79      0.81        19\n",
            "         163       0.60      0.38      0.46         8\n",
            "         164       0.71      0.56      0.63         9\n",
            "         167       0.78      0.54      0.64        13\n",
            "         177       0.95      0.88      0.92        43\n",
            "         203       1.00      0.25      0.40         8\n",
            "         204       0.47      0.59      0.52       135\n",
            "\n",
            "    accuracy                           0.93     15540\n",
            "   macro avg       0.80      0.72      0.75     15540\n",
            "weighted avg       0.93      0.93      0.93     15540\n",
            "\n"
          ],
          "name": "stdout"
        },
        {
          "output_type": "stream",
          "text": [
            "/usr/local/lib/python3.7/dist-packages/sklearn/metrics/_classification.py:1272: UndefinedMetricWarning: Precision and F-score are ill-defined and being set to 0.0 in labels with no predicted samples. Use `zero_division` parameter to control this behavior.\n",
            "  _warn_prf(average, modifier, msg_start, len(result))\n"
          ],
          "name": "stderr"
        }
      ]
    },
    {
      "cell_type": "code",
      "metadata": {
        "id": "xR25fQyhU27s"
      },
      "source": [
        "    with open(DATA_PATH_CLOUD + \"catboost.clf\", 'rb') as fout:\n",
        "        clf = pickle.loads(fout.read())"
      ],
      "execution_count": null,
      "outputs": []
    }
  ]
}